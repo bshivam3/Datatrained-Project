{
 "cells": [
  {
   "cell_type": "code",
   "execution_count": 123,
   "metadata": {},
   "outputs": [],
   "source": [
    "import pandas as pd"
   ]
  },
  {
   "cell_type": "code",
   "execution_count": 124,
   "metadata": {},
   "outputs": [],
   "source": [
    "import numpy as np"
   ]
  },
  {
   "cell_type": "code",
   "execution_count": 125,
   "metadata": {},
   "outputs": [],
   "source": [
    "import matplotlib.pyplot as plt"
   ]
  },
  {
   "cell_type": "code",
   "execution_count": 126,
   "metadata": {},
   "outputs": [],
   "source": [
    "import seaborn as sns"
   ]
  },
  {
   "cell_type": "code",
   "execution_count": 127,
   "metadata": {},
   "outputs": [],
   "source": [
    "df=pd.read_csv('Automobile_insurance_fraud1.csv')"
   ]
  },
  {
   "cell_type": "code",
   "execution_count": 128,
   "metadata": {},
   "outputs": [
    {
     "data": {
      "text/html": [
       "<div>\n",
       "<style scoped>\n",
       "    .dataframe tbody tr th:only-of-type {\n",
       "        vertical-align: middle;\n",
       "    }\n",
       "\n",
       "    .dataframe tbody tr th {\n",
       "        vertical-align: top;\n",
       "    }\n",
       "\n",
       "    .dataframe thead th {\n",
       "        text-align: right;\n",
       "    }\n",
       "</style>\n",
       "<table border=\"1\" class=\"dataframe\">\n",
       "  <thead>\n",
       "    <tr style=\"text-align: right;\">\n",
       "      <th></th>\n",
       "      <th>months_as_customer</th>\n",
       "      <th>age</th>\n",
       "      <th>policy_number</th>\n",
       "      <th>policy_bind_date</th>\n",
       "      <th>policy_state</th>\n",
       "      <th>policy_csl</th>\n",
       "      <th>policy_deductable</th>\n",
       "      <th>policy_annual_premium</th>\n",
       "      <th>umbrella_limit</th>\n",
       "      <th>insured_zip</th>\n",
       "      <th>...</th>\n",
       "      <th>police_report_available</th>\n",
       "      <th>total_claim_amount</th>\n",
       "      <th>injury_claim</th>\n",
       "      <th>property_claim</th>\n",
       "      <th>vehicle_claim</th>\n",
       "      <th>auto_make</th>\n",
       "      <th>auto_model</th>\n",
       "      <th>auto_year</th>\n",
       "      <th>fraud_reported</th>\n",
       "      <th>_c39</th>\n",
       "    </tr>\n",
       "  </thead>\n",
       "  <tbody>\n",
       "    <tr>\n",
       "      <th>0</th>\n",
       "      <td>328</td>\n",
       "      <td>48</td>\n",
       "      <td>521585</td>\n",
       "      <td>17-10-2014</td>\n",
       "      <td>OH</td>\n",
       "      <td>250/500</td>\n",
       "      <td>1000</td>\n",
       "      <td>1406.91</td>\n",
       "      <td>0</td>\n",
       "      <td>466132</td>\n",
       "      <td>...</td>\n",
       "      <td>YES</td>\n",
       "      <td>71610</td>\n",
       "      <td>6510</td>\n",
       "      <td>13020</td>\n",
       "      <td>52080</td>\n",
       "      <td>Saab</td>\n",
       "      <td>92x</td>\n",
       "      <td>2004</td>\n",
       "      <td>Y</td>\n",
       "      <td>NaN</td>\n",
       "    </tr>\n",
       "    <tr>\n",
       "      <th>1</th>\n",
       "      <td>228</td>\n",
       "      <td>42</td>\n",
       "      <td>342868</td>\n",
       "      <td>27-06-2006</td>\n",
       "      <td>IN</td>\n",
       "      <td>250/500</td>\n",
       "      <td>2000</td>\n",
       "      <td>1197.22</td>\n",
       "      <td>5000000</td>\n",
       "      <td>468176</td>\n",
       "      <td>...</td>\n",
       "      <td>?</td>\n",
       "      <td>5070</td>\n",
       "      <td>780</td>\n",
       "      <td>780</td>\n",
       "      <td>3510</td>\n",
       "      <td>Mercedes</td>\n",
       "      <td>E400</td>\n",
       "      <td>2007</td>\n",
       "      <td>Y</td>\n",
       "      <td>NaN</td>\n",
       "    </tr>\n",
       "    <tr>\n",
       "      <th>2</th>\n",
       "      <td>134</td>\n",
       "      <td>29</td>\n",
       "      <td>687698</td>\n",
       "      <td>06-09-2000</td>\n",
       "      <td>OH</td>\n",
       "      <td>100/300</td>\n",
       "      <td>2000</td>\n",
       "      <td>1413.14</td>\n",
       "      <td>5000000</td>\n",
       "      <td>430632</td>\n",
       "      <td>...</td>\n",
       "      <td>NO</td>\n",
       "      <td>34650</td>\n",
       "      <td>7700</td>\n",
       "      <td>3850</td>\n",
       "      <td>23100</td>\n",
       "      <td>Dodge</td>\n",
       "      <td>RAM</td>\n",
       "      <td>2007</td>\n",
       "      <td>N</td>\n",
       "      <td>NaN</td>\n",
       "    </tr>\n",
       "    <tr>\n",
       "      <th>3</th>\n",
       "      <td>256</td>\n",
       "      <td>41</td>\n",
       "      <td>227811</td>\n",
       "      <td>25-05-1990</td>\n",
       "      <td>IL</td>\n",
       "      <td>250/500</td>\n",
       "      <td>2000</td>\n",
       "      <td>1415.74</td>\n",
       "      <td>6000000</td>\n",
       "      <td>608117</td>\n",
       "      <td>...</td>\n",
       "      <td>NO</td>\n",
       "      <td>63400</td>\n",
       "      <td>6340</td>\n",
       "      <td>6340</td>\n",
       "      <td>50720</td>\n",
       "      <td>Chevrolet</td>\n",
       "      <td>Tahoe</td>\n",
       "      <td>2014</td>\n",
       "      <td>Y</td>\n",
       "      <td>NaN</td>\n",
       "    </tr>\n",
       "    <tr>\n",
       "      <th>4</th>\n",
       "      <td>228</td>\n",
       "      <td>44</td>\n",
       "      <td>367455</td>\n",
       "      <td>06-06-2014</td>\n",
       "      <td>IL</td>\n",
       "      <td>500/1000</td>\n",
       "      <td>1000</td>\n",
       "      <td>1583.91</td>\n",
       "      <td>6000000</td>\n",
       "      <td>610706</td>\n",
       "      <td>...</td>\n",
       "      <td>NO</td>\n",
       "      <td>6500</td>\n",
       "      <td>1300</td>\n",
       "      <td>650</td>\n",
       "      <td>4550</td>\n",
       "      <td>Accura</td>\n",
       "      <td>RSX</td>\n",
       "      <td>2009</td>\n",
       "      <td>N</td>\n",
       "      <td>NaN</td>\n",
       "    </tr>\n",
       "  </tbody>\n",
       "</table>\n",
       "<p>5 rows × 40 columns</p>\n",
       "</div>"
      ],
      "text/plain": [
       "   months_as_customer  age  policy_number policy_bind_date policy_state  \\\n",
       "0                 328   48         521585       17-10-2014           OH   \n",
       "1                 228   42         342868       27-06-2006           IN   \n",
       "2                 134   29         687698       06-09-2000           OH   \n",
       "3                 256   41         227811       25-05-1990           IL   \n",
       "4                 228   44         367455       06-06-2014           IL   \n",
       "\n",
       "  policy_csl  policy_deductable  policy_annual_premium  umbrella_limit  \\\n",
       "0    250/500               1000                1406.91               0   \n",
       "1    250/500               2000                1197.22         5000000   \n",
       "2    100/300               2000                1413.14         5000000   \n",
       "3    250/500               2000                1415.74         6000000   \n",
       "4   500/1000               1000                1583.91         6000000   \n",
       "\n",
       "   insured_zip  ... police_report_available total_claim_amount injury_claim  \\\n",
       "0       466132  ...                     YES              71610         6510   \n",
       "1       468176  ...                       ?               5070          780   \n",
       "2       430632  ...                      NO              34650         7700   \n",
       "3       608117  ...                      NO              63400         6340   \n",
       "4       610706  ...                      NO               6500         1300   \n",
       "\n",
       "  property_claim vehicle_claim  auto_make  auto_model auto_year  \\\n",
       "0          13020         52080       Saab         92x      2004   \n",
       "1            780          3510   Mercedes        E400      2007   \n",
       "2           3850         23100      Dodge         RAM      2007   \n",
       "3           6340         50720  Chevrolet       Tahoe      2014   \n",
       "4            650          4550     Accura         RSX      2009   \n",
       "\n",
       "  fraud_reported _c39  \n",
       "0              Y  NaN  \n",
       "1              Y  NaN  \n",
       "2              N  NaN  \n",
       "3              Y  NaN  \n",
       "4              N  NaN  \n",
       "\n",
       "[5 rows x 40 columns]"
      ]
     },
     "execution_count": 128,
     "metadata": {},
     "output_type": "execute_result"
    }
   ],
   "source": [
    "df.head()"
   ]
  },
  {
   "cell_type": "markdown",
   "metadata": {},
   "source": [
    "There are 40 columns in dataset.Fraud reported is out target."
   ]
  },
  {
   "cell_type": "code",
   "execution_count": 129,
   "metadata": {},
   "outputs": [
    {
     "data": {
      "text/html": [
       "<div>\n",
       "<style scoped>\n",
       "    .dataframe tbody tr th:only-of-type {\n",
       "        vertical-align: middle;\n",
       "    }\n",
       "\n",
       "    .dataframe tbody tr th {\n",
       "        vertical-align: top;\n",
       "    }\n",
       "\n",
       "    .dataframe thead th {\n",
       "        text-align: right;\n",
       "    }\n",
       "</style>\n",
       "<table border=\"1\" class=\"dataframe\">\n",
       "  <thead>\n",
       "    <tr style=\"text-align: right;\">\n",
       "      <th></th>\n",
       "      <th>months_as_customer</th>\n",
       "      <th>age</th>\n",
       "      <th>policy_number</th>\n",
       "      <th>policy_bind_date</th>\n",
       "      <th>policy_state</th>\n",
       "      <th>policy_csl</th>\n",
       "      <th>policy_deductable</th>\n",
       "      <th>policy_annual_premium</th>\n",
       "      <th>umbrella_limit</th>\n",
       "      <th>insured_zip</th>\n",
       "      <th>...</th>\n",
       "      <th>police_report_available</th>\n",
       "      <th>total_claim_amount</th>\n",
       "      <th>injury_claim</th>\n",
       "      <th>property_claim</th>\n",
       "      <th>vehicle_claim</th>\n",
       "      <th>auto_make</th>\n",
       "      <th>auto_model</th>\n",
       "      <th>auto_year</th>\n",
       "      <th>fraud_reported</th>\n",
       "      <th>_c39</th>\n",
       "    </tr>\n",
       "  </thead>\n",
       "  <tbody>\n",
       "    <tr>\n",
       "      <th>995</th>\n",
       "      <td>3</td>\n",
       "      <td>38</td>\n",
       "      <td>941851</td>\n",
       "      <td>16-07-1991</td>\n",
       "      <td>OH</td>\n",
       "      <td>500/1000</td>\n",
       "      <td>1000</td>\n",
       "      <td>1310.80</td>\n",
       "      <td>0</td>\n",
       "      <td>431289</td>\n",
       "      <td>...</td>\n",
       "      <td>?</td>\n",
       "      <td>87200</td>\n",
       "      <td>17440</td>\n",
       "      <td>8720</td>\n",
       "      <td>61040</td>\n",
       "      <td>Honda</td>\n",
       "      <td>Accord</td>\n",
       "      <td>2006</td>\n",
       "      <td>N</td>\n",
       "      <td>NaN</td>\n",
       "    </tr>\n",
       "    <tr>\n",
       "      <th>996</th>\n",
       "      <td>285</td>\n",
       "      <td>41</td>\n",
       "      <td>186934</td>\n",
       "      <td>05-01-2014</td>\n",
       "      <td>IL</td>\n",
       "      <td>100/300</td>\n",
       "      <td>1000</td>\n",
       "      <td>1436.79</td>\n",
       "      <td>0</td>\n",
       "      <td>608177</td>\n",
       "      <td>...</td>\n",
       "      <td>?</td>\n",
       "      <td>108480</td>\n",
       "      <td>18080</td>\n",
       "      <td>18080</td>\n",
       "      <td>72320</td>\n",
       "      <td>Volkswagen</td>\n",
       "      <td>Passat</td>\n",
       "      <td>2015</td>\n",
       "      <td>N</td>\n",
       "      <td>NaN</td>\n",
       "    </tr>\n",
       "    <tr>\n",
       "      <th>997</th>\n",
       "      <td>130</td>\n",
       "      <td>34</td>\n",
       "      <td>918516</td>\n",
       "      <td>17-02-2003</td>\n",
       "      <td>OH</td>\n",
       "      <td>250/500</td>\n",
       "      <td>500</td>\n",
       "      <td>1383.49</td>\n",
       "      <td>3000000</td>\n",
       "      <td>442797</td>\n",
       "      <td>...</td>\n",
       "      <td>YES</td>\n",
       "      <td>67500</td>\n",
       "      <td>7500</td>\n",
       "      <td>7500</td>\n",
       "      <td>52500</td>\n",
       "      <td>Suburu</td>\n",
       "      <td>Impreza</td>\n",
       "      <td>1996</td>\n",
       "      <td>N</td>\n",
       "      <td>NaN</td>\n",
       "    </tr>\n",
       "    <tr>\n",
       "      <th>998</th>\n",
       "      <td>458</td>\n",
       "      <td>62</td>\n",
       "      <td>533940</td>\n",
       "      <td>18-11-2011</td>\n",
       "      <td>IL</td>\n",
       "      <td>500/1000</td>\n",
       "      <td>2000</td>\n",
       "      <td>1356.92</td>\n",
       "      <td>5000000</td>\n",
       "      <td>441714</td>\n",
       "      <td>...</td>\n",
       "      <td>YES</td>\n",
       "      <td>46980</td>\n",
       "      <td>5220</td>\n",
       "      <td>5220</td>\n",
       "      <td>36540</td>\n",
       "      <td>Audi</td>\n",
       "      <td>A5</td>\n",
       "      <td>1998</td>\n",
       "      <td>N</td>\n",
       "      <td>NaN</td>\n",
       "    </tr>\n",
       "    <tr>\n",
       "      <th>999</th>\n",
       "      <td>456</td>\n",
       "      <td>60</td>\n",
       "      <td>556080</td>\n",
       "      <td>11-11-1996</td>\n",
       "      <td>OH</td>\n",
       "      <td>250/500</td>\n",
       "      <td>1000</td>\n",
       "      <td>766.19</td>\n",
       "      <td>0</td>\n",
       "      <td>612260</td>\n",
       "      <td>...</td>\n",
       "      <td>?</td>\n",
       "      <td>5060</td>\n",
       "      <td>460</td>\n",
       "      <td>920</td>\n",
       "      <td>3680</td>\n",
       "      <td>Mercedes</td>\n",
       "      <td>E400</td>\n",
       "      <td>2007</td>\n",
       "      <td>N</td>\n",
       "      <td>NaN</td>\n",
       "    </tr>\n",
       "  </tbody>\n",
       "</table>\n",
       "<p>5 rows × 40 columns</p>\n",
       "</div>"
      ],
      "text/plain": [
       "     months_as_customer  age  policy_number policy_bind_date policy_state  \\\n",
       "995                   3   38         941851       16-07-1991           OH   \n",
       "996                 285   41         186934       05-01-2014           IL   \n",
       "997                 130   34         918516       17-02-2003           OH   \n",
       "998                 458   62         533940       18-11-2011           IL   \n",
       "999                 456   60         556080       11-11-1996           OH   \n",
       "\n",
       "    policy_csl  policy_deductable  policy_annual_premium  umbrella_limit  \\\n",
       "995   500/1000               1000                1310.80               0   \n",
       "996    100/300               1000                1436.79               0   \n",
       "997    250/500                500                1383.49         3000000   \n",
       "998   500/1000               2000                1356.92         5000000   \n",
       "999    250/500               1000                 766.19               0   \n",
       "\n",
       "     insured_zip  ... police_report_available total_claim_amount injury_claim  \\\n",
       "995       431289  ...                       ?              87200        17440   \n",
       "996       608177  ...                       ?             108480        18080   \n",
       "997       442797  ...                     YES              67500         7500   \n",
       "998       441714  ...                     YES              46980         5220   \n",
       "999       612260  ...                       ?               5060          460   \n",
       "\n",
       "    property_claim vehicle_claim   auto_make  auto_model auto_year  \\\n",
       "995           8720         61040       Honda      Accord      2006   \n",
       "996          18080         72320  Volkswagen      Passat      2015   \n",
       "997           7500         52500      Suburu     Impreza      1996   \n",
       "998           5220         36540        Audi          A5      1998   \n",
       "999            920          3680    Mercedes        E400      2007   \n",
       "\n",
       "    fraud_reported _c39  \n",
       "995              N  NaN  \n",
       "996              N  NaN  \n",
       "997              N  NaN  \n",
       "998              N  NaN  \n",
       "999              N  NaN  \n",
       "\n",
       "[5 rows x 40 columns]"
      ]
     },
     "execution_count": 129,
     "metadata": {},
     "output_type": "execute_result"
    }
   ],
   "source": [
    "df.tail()"
   ]
  },
  {
   "cell_type": "code",
   "execution_count": 130,
   "metadata": {},
   "outputs": [
    {
     "name": "stdout",
     "output_type": "stream",
     "text": [
      "<class 'pandas.core.frame.DataFrame'>\n",
      "RangeIndex: 1000 entries, 0 to 999\n",
      "Data columns (total 40 columns):\n",
      " #   Column                       Non-Null Count  Dtype  \n",
      "---  ------                       --------------  -----  \n",
      " 0   months_as_customer           1000 non-null   int64  \n",
      " 1   age                          1000 non-null   int64  \n",
      " 2   policy_number                1000 non-null   int64  \n",
      " 3   policy_bind_date             1000 non-null   object \n",
      " 4   policy_state                 1000 non-null   object \n",
      " 5   policy_csl                   1000 non-null   object \n",
      " 6   policy_deductable            1000 non-null   int64  \n",
      " 7   policy_annual_premium        1000 non-null   float64\n",
      " 8   umbrella_limit               1000 non-null   int64  \n",
      " 9   insured_zip                  1000 non-null   int64  \n",
      " 10  insured_sex                  1000 non-null   object \n",
      " 11  insured_education_level      1000 non-null   object \n",
      " 12  insured_occupation           1000 non-null   object \n",
      " 13  insured_hobbies              1000 non-null   object \n",
      " 14  insured_relationship         1000 non-null   object \n",
      " 15  capital-gains                1000 non-null   int64  \n",
      " 16  capital-loss                 1000 non-null   int64  \n",
      " 17  incident_date                1000 non-null   object \n",
      " 18  incident_type                1000 non-null   object \n",
      " 19  collision_type               1000 non-null   object \n",
      " 20  incident_severity            1000 non-null   object \n",
      " 21  authorities_contacted        1000 non-null   object \n",
      " 22  incident_state               1000 non-null   object \n",
      " 23  incident_city                1000 non-null   object \n",
      " 24  incident_location            1000 non-null   object \n",
      " 25  incident_hour_of_the_day     1000 non-null   int64  \n",
      " 26  number_of_vehicles_involved  1000 non-null   int64  \n",
      " 27  property_damage              1000 non-null   object \n",
      " 28  bodily_injuries              1000 non-null   int64  \n",
      " 29  witnesses                    1000 non-null   int64  \n",
      " 30  police_report_available      1000 non-null   object \n",
      " 31  total_claim_amount           1000 non-null   int64  \n",
      " 32  injury_claim                 1000 non-null   int64  \n",
      " 33  property_claim               1000 non-null   int64  \n",
      " 34  vehicle_claim                1000 non-null   int64  \n",
      " 35  auto_make                    1000 non-null   object \n",
      " 36  auto_model                   1000 non-null   object \n",
      " 37  auto_year                    1000 non-null   int64  \n",
      " 38  fraud_reported               1000 non-null   object \n",
      " 39  _c39                         0 non-null      float64\n",
      "dtypes: float64(2), int64(17), object(21)\n",
      "memory usage: 312.6+ KB\n"
     ]
    }
   ],
   "source": [
    "df.info()"
   ]
  },
  {
   "cell_type": "markdown",
   "metadata": {},
   "source": [
    "There are no null data in the dataset except for in column _c39 wherein all data is null"
   ]
  },
  {
   "cell_type": "code",
   "execution_count": 131,
   "metadata": {},
   "outputs": [
    {
     "data": {
      "text/html": [
       "<div>\n",
       "<style scoped>\n",
       "    .dataframe tbody tr th:only-of-type {\n",
       "        vertical-align: middle;\n",
       "    }\n",
       "\n",
       "    .dataframe tbody tr th {\n",
       "        vertical-align: top;\n",
       "    }\n",
       "\n",
       "    .dataframe thead th {\n",
       "        text-align: right;\n",
       "    }\n",
       "</style>\n",
       "<table border=\"1\" class=\"dataframe\">\n",
       "  <thead>\n",
       "    <tr style=\"text-align: right;\">\n",
       "      <th></th>\n",
       "      <th>months_as_customer</th>\n",
       "      <th>age</th>\n",
       "      <th>policy_number</th>\n",
       "      <th>policy_deductable</th>\n",
       "      <th>policy_annual_premium</th>\n",
       "      <th>umbrella_limit</th>\n",
       "      <th>insured_zip</th>\n",
       "      <th>capital-gains</th>\n",
       "      <th>capital-loss</th>\n",
       "      <th>incident_hour_of_the_day</th>\n",
       "      <th>number_of_vehicles_involved</th>\n",
       "      <th>bodily_injuries</th>\n",
       "      <th>witnesses</th>\n",
       "      <th>total_claim_amount</th>\n",
       "      <th>injury_claim</th>\n",
       "      <th>property_claim</th>\n",
       "      <th>vehicle_claim</th>\n",
       "      <th>auto_year</th>\n",
       "      <th>_c39</th>\n",
       "    </tr>\n",
       "  </thead>\n",
       "  <tbody>\n",
       "    <tr>\n",
       "      <th>count</th>\n",
       "      <td>1000.000000</td>\n",
       "      <td>1000.000000</td>\n",
       "      <td>1000.000000</td>\n",
       "      <td>1000.000000</td>\n",
       "      <td>1000.000000</td>\n",
       "      <td>1.000000e+03</td>\n",
       "      <td>1000.000000</td>\n",
       "      <td>1000.000000</td>\n",
       "      <td>1000.000000</td>\n",
       "      <td>1000.000000</td>\n",
       "      <td>1000.00000</td>\n",
       "      <td>1000.000000</td>\n",
       "      <td>1000.000000</td>\n",
       "      <td>1000.00000</td>\n",
       "      <td>1000.000000</td>\n",
       "      <td>1000.000000</td>\n",
       "      <td>1000.000000</td>\n",
       "      <td>1000.000000</td>\n",
       "      <td>0.0</td>\n",
       "    </tr>\n",
       "    <tr>\n",
       "      <th>mean</th>\n",
       "      <td>203.954000</td>\n",
       "      <td>38.948000</td>\n",
       "      <td>546238.648000</td>\n",
       "      <td>1136.000000</td>\n",
       "      <td>1256.406150</td>\n",
       "      <td>1.101000e+06</td>\n",
       "      <td>501214.488000</td>\n",
       "      <td>25126.100000</td>\n",
       "      <td>-26793.700000</td>\n",
       "      <td>11.644000</td>\n",
       "      <td>1.83900</td>\n",
       "      <td>0.992000</td>\n",
       "      <td>1.487000</td>\n",
       "      <td>52761.94000</td>\n",
       "      <td>7433.420000</td>\n",
       "      <td>7399.570000</td>\n",
       "      <td>37928.950000</td>\n",
       "      <td>2005.103000</td>\n",
       "      <td>NaN</td>\n",
       "    </tr>\n",
       "    <tr>\n",
       "      <th>std</th>\n",
       "      <td>115.113174</td>\n",
       "      <td>9.140287</td>\n",
       "      <td>257063.005276</td>\n",
       "      <td>611.864673</td>\n",
       "      <td>244.167395</td>\n",
       "      <td>2.297407e+06</td>\n",
       "      <td>71701.610941</td>\n",
       "      <td>27872.187708</td>\n",
       "      <td>28104.096686</td>\n",
       "      <td>6.951373</td>\n",
       "      <td>1.01888</td>\n",
       "      <td>0.820127</td>\n",
       "      <td>1.111335</td>\n",
       "      <td>26401.53319</td>\n",
       "      <td>4880.951853</td>\n",
       "      <td>4824.726179</td>\n",
       "      <td>18886.252893</td>\n",
       "      <td>6.015861</td>\n",
       "      <td>NaN</td>\n",
       "    </tr>\n",
       "    <tr>\n",
       "      <th>min</th>\n",
       "      <td>0.000000</td>\n",
       "      <td>19.000000</td>\n",
       "      <td>100804.000000</td>\n",
       "      <td>500.000000</td>\n",
       "      <td>433.330000</td>\n",
       "      <td>-1.000000e+06</td>\n",
       "      <td>430104.000000</td>\n",
       "      <td>0.000000</td>\n",
       "      <td>-111100.000000</td>\n",
       "      <td>0.000000</td>\n",
       "      <td>1.00000</td>\n",
       "      <td>0.000000</td>\n",
       "      <td>0.000000</td>\n",
       "      <td>100.00000</td>\n",
       "      <td>0.000000</td>\n",
       "      <td>0.000000</td>\n",
       "      <td>70.000000</td>\n",
       "      <td>1995.000000</td>\n",
       "      <td>NaN</td>\n",
       "    </tr>\n",
       "    <tr>\n",
       "      <th>25%</th>\n",
       "      <td>115.750000</td>\n",
       "      <td>32.000000</td>\n",
       "      <td>335980.250000</td>\n",
       "      <td>500.000000</td>\n",
       "      <td>1089.607500</td>\n",
       "      <td>0.000000e+00</td>\n",
       "      <td>448404.500000</td>\n",
       "      <td>0.000000</td>\n",
       "      <td>-51500.000000</td>\n",
       "      <td>6.000000</td>\n",
       "      <td>1.00000</td>\n",
       "      <td>0.000000</td>\n",
       "      <td>1.000000</td>\n",
       "      <td>41812.50000</td>\n",
       "      <td>4295.000000</td>\n",
       "      <td>4445.000000</td>\n",
       "      <td>30292.500000</td>\n",
       "      <td>2000.000000</td>\n",
       "      <td>NaN</td>\n",
       "    </tr>\n",
       "    <tr>\n",
       "      <th>50%</th>\n",
       "      <td>199.500000</td>\n",
       "      <td>38.000000</td>\n",
       "      <td>533135.000000</td>\n",
       "      <td>1000.000000</td>\n",
       "      <td>1257.200000</td>\n",
       "      <td>0.000000e+00</td>\n",
       "      <td>466445.500000</td>\n",
       "      <td>0.000000</td>\n",
       "      <td>-23250.000000</td>\n",
       "      <td>12.000000</td>\n",
       "      <td>1.00000</td>\n",
       "      <td>1.000000</td>\n",
       "      <td>1.000000</td>\n",
       "      <td>58055.00000</td>\n",
       "      <td>6775.000000</td>\n",
       "      <td>6750.000000</td>\n",
       "      <td>42100.000000</td>\n",
       "      <td>2005.000000</td>\n",
       "      <td>NaN</td>\n",
       "    </tr>\n",
       "    <tr>\n",
       "      <th>75%</th>\n",
       "      <td>276.250000</td>\n",
       "      <td>44.000000</td>\n",
       "      <td>759099.750000</td>\n",
       "      <td>2000.000000</td>\n",
       "      <td>1415.695000</td>\n",
       "      <td>0.000000e+00</td>\n",
       "      <td>603251.000000</td>\n",
       "      <td>51025.000000</td>\n",
       "      <td>0.000000</td>\n",
       "      <td>17.000000</td>\n",
       "      <td>3.00000</td>\n",
       "      <td>2.000000</td>\n",
       "      <td>2.000000</td>\n",
       "      <td>70592.50000</td>\n",
       "      <td>11305.000000</td>\n",
       "      <td>10885.000000</td>\n",
       "      <td>50822.500000</td>\n",
       "      <td>2010.000000</td>\n",
       "      <td>NaN</td>\n",
       "    </tr>\n",
       "    <tr>\n",
       "      <th>max</th>\n",
       "      <td>479.000000</td>\n",
       "      <td>64.000000</td>\n",
       "      <td>999435.000000</td>\n",
       "      <td>2000.000000</td>\n",
       "      <td>2047.590000</td>\n",
       "      <td>1.000000e+07</td>\n",
       "      <td>620962.000000</td>\n",
       "      <td>100500.000000</td>\n",
       "      <td>0.000000</td>\n",
       "      <td>23.000000</td>\n",
       "      <td>4.00000</td>\n",
       "      <td>2.000000</td>\n",
       "      <td>3.000000</td>\n",
       "      <td>114920.00000</td>\n",
       "      <td>21450.000000</td>\n",
       "      <td>23670.000000</td>\n",
       "      <td>79560.000000</td>\n",
       "      <td>2015.000000</td>\n",
       "      <td>NaN</td>\n",
       "    </tr>\n",
       "  </tbody>\n",
       "</table>\n",
       "</div>"
      ],
      "text/plain": [
       "       months_as_customer          age  policy_number  policy_deductable  \\\n",
       "count         1000.000000  1000.000000    1000.000000        1000.000000   \n",
       "mean           203.954000    38.948000  546238.648000        1136.000000   \n",
       "std            115.113174     9.140287  257063.005276         611.864673   \n",
       "min              0.000000    19.000000  100804.000000         500.000000   \n",
       "25%            115.750000    32.000000  335980.250000         500.000000   \n",
       "50%            199.500000    38.000000  533135.000000        1000.000000   \n",
       "75%            276.250000    44.000000  759099.750000        2000.000000   \n",
       "max            479.000000    64.000000  999435.000000        2000.000000   \n",
       "\n",
       "       policy_annual_premium  umbrella_limit    insured_zip  capital-gains  \\\n",
       "count            1000.000000    1.000000e+03    1000.000000    1000.000000   \n",
       "mean             1256.406150    1.101000e+06  501214.488000   25126.100000   \n",
       "std               244.167395    2.297407e+06   71701.610941   27872.187708   \n",
       "min               433.330000   -1.000000e+06  430104.000000       0.000000   \n",
       "25%              1089.607500    0.000000e+00  448404.500000       0.000000   \n",
       "50%              1257.200000    0.000000e+00  466445.500000       0.000000   \n",
       "75%              1415.695000    0.000000e+00  603251.000000   51025.000000   \n",
       "max              2047.590000    1.000000e+07  620962.000000  100500.000000   \n",
       "\n",
       "        capital-loss  incident_hour_of_the_day  number_of_vehicles_involved  \\\n",
       "count    1000.000000               1000.000000                   1000.00000   \n",
       "mean   -26793.700000                 11.644000                      1.83900   \n",
       "std     28104.096686                  6.951373                      1.01888   \n",
       "min   -111100.000000                  0.000000                      1.00000   \n",
       "25%    -51500.000000                  6.000000                      1.00000   \n",
       "50%    -23250.000000                 12.000000                      1.00000   \n",
       "75%         0.000000                 17.000000                      3.00000   \n",
       "max         0.000000                 23.000000                      4.00000   \n",
       "\n",
       "       bodily_injuries    witnesses  total_claim_amount  injury_claim  \\\n",
       "count      1000.000000  1000.000000          1000.00000   1000.000000   \n",
       "mean          0.992000     1.487000         52761.94000   7433.420000   \n",
       "std           0.820127     1.111335         26401.53319   4880.951853   \n",
       "min           0.000000     0.000000           100.00000      0.000000   \n",
       "25%           0.000000     1.000000         41812.50000   4295.000000   \n",
       "50%           1.000000     1.000000         58055.00000   6775.000000   \n",
       "75%           2.000000     2.000000         70592.50000  11305.000000   \n",
       "max           2.000000     3.000000        114920.00000  21450.000000   \n",
       "\n",
       "       property_claim  vehicle_claim    auto_year  _c39  \n",
       "count     1000.000000    1000.000000  1000.000000   0.0  \n",
       "mean      7399.570000   37928.950000  2005.103000   NaN  \n",
       "std       4824.726179   18886.252893     6.015861   NaN  \n",
       "min          0.000000      70.000000  1995.000000   NaN  \n",
       "25%       4445.000000   30292.500000  2000.000000   NaN  \n",
       "50%       6750.000000   42100.000000  2005.000000   NaN  \n",
       "75%      10885.000000   50822.500000  2010.000000   NaN  \n",
       "max      23670.000000   79560.000000  2015.000000   NaN  "
      ]
     },
     "execution_count": 131,
     "metadata": {},
     "output_type": "execute_result"
    }
   ],
   "source": [
    "df.describe()"
   ]
  },
  {
   "cell_type": "code",
   "execution_count": 132,
   "metadata": {},
   "outputs": [],
   "source": [
    "df.drop(['_c39'],axis=1,inplace=True)"
   ]
  },
  {
   "cell_type": "code",
   "execution_count": 133,
   "metadata": {},
   "outputs": [
    {
     "data": {
      "text/html": [
       "<div>\n",
       "<style scoped>\n",
       "    .dataframe tbody tr th:only-of-type {\n",
       "        vertical-align: middle;\n",
       "    }\n",
       "\n",
       "    .dataframe tbody tr th {\n",
       "        vertical-align: top;\n",
       "    }\n",
       "\n",
       "    .dataframe thead th {\n",
       "        text-align: right;\n",
       "    }\n",
       "</style>\n",
       "<table border=\"1\" class=\"dataframe\">\n",
       "  <thead>\n",
       "    <tr style=\"text-align: right;\">\n",
       "      <th></th>\n",
       "      <th>months_as_customer</th>\n",
       "      <th>age</th>\n",
       "      <th>policy_number</th>\n",
       "      <th>policy_bind_date</th>\n",
       "      <th>policy_state</th>\n",
       "      <th>policy_csl</th>\n",
       "      <th>policy_deductable</th>\n",
       "      <th>policy_annual_premium</th>\n",
       "      <th>umbrella_limit</th>\n",
       "      <th>insured_zip</th>\n",
       "      <th>...</th>\n",
       "      <th>witnesses</th>\n",
       "      <th>police_report_available</th>\n",
       "      <th>total_claim_amount</th>\n",
       "      <th>injury_claim</th>\n",
       "      <th>property_claim</th>\n",
       "      <th>vehicle_claim</th>\n",
       "      <th>auto_make</th>\n",
       "      <th>auto_model</th>\n",
       "      <th>auto_year</th>\n",
       "      <th>fraud_reported</th>\n",
       "    </tr>\n",
       "  </thead>\n",
       "  <tbody>\n",
       "    <tr>\n",
       "      <th>0</th>\n",
       "      <td>328</td>\n",
       "      <td>48</td>\n",
       "      <td>521585</td>\n",
       "      <td>17-10-2014</td>\n",
       "      <td>OH</td>\n",
       "      <td>250/500</td>\n",
       "      <td>1000</td>\n",
       "      <td>1406.91</td>\n",
       "      <td>0</td>\n",
       "      <td>466132</td>\n",
       "      <td>...</td>\n",
       "      <td>2</td>\n",
       "      <td>YES</td>\n",
       "      <td>71610</td>\n",
       "      <td>6510</td>\n",
       "      <td>13020</td>\n",
       "      <td>52080</td>\n",
       "      <td>Saab</td>\n",
       "      <td>92x</td>\n",
       "      <td>2004</td>\n",
       "      <td>Y</td>\n",
       "    </tr>\n",
       "    <tr>\n",
       "      <th>1</th>\n",
       "      <td>228</td>\n",
       "      <td>42</td>\n",
       "      <td>342868</td>\n",
       "      <td>27-06-2006</td>\n",
       "      <td>IN</td>\n",
       "      <td>250/500</td>\n",
       "      <td>2000</td>\n",
       "      <td>1197.22</td>\n",
       "      <td>5000000</td>\n",
       "      <td>468176</td>\n",
       "      <td>...</td>\n",
       "      <td>0</td>\n",
       "      <td>?</td>\n",
       "      <td>5070</td>\n",
       "      <td>780</td>\n",
       "      <td>780</td>\n",
       "      <td>3510</td>\n",
       "      <td>Mercedes</td>\n",
       "      <td>E400</td>\n",
       "      <td>2007</td>\n",
       "      <td>Y</td>\n",
       "    </tr>\n",
       "    <tr>\n",
       "      <th>2</th>\n",
       "      <td>134</td>\n",
       "      <td>29</td>\n",
       "      <td>687698</td>\n",
       "      <td>06-09-2000</td>\n",
       "      <td>OH</td>\n",
       "      <td>100/300</td>\n",
       "      <td>2000</td>\n",
       "      <td>1413.14</td>\n",
       "      <td>5000000</td>\n",
       "      <td>430632</td>\n",
       "      <td>...</td>\n",
       "      <td>3</td>\n",
       "      <td>NO</td>\n",
       "      <td>34650</td>\n",
       "      <td>7700</td>\n",
       "      <td>3850</td>\n",
       "      <td>23100</td>\n",
       "      <td>Dodge</td>\n",
       "      <td>RAM</td>\n",
       "      <td>2007</td>\n",
       "      <td>N</td>\n",
       "    </tr>\n",
       "    <tr>\n",
       "      <th>3</th>\n",
       "      <td>256</td>\n",
       "      <td>41</td>\n",
       "      <td>227811</td>\n",
       "      <td>25-05-1990</td>\n",
       "      <td>IL</td>\n",
       "      <td>250/500</td>\n",
       "      <td>2000</td>\n",
       "      <td>1415.74</td>\n",
       "      <td>6000000</td>\n",
       "      <td>608117</td>\n",
       "      <td>...</td>\n",
       "      <td>2</td>\n",
       "      <td>NO</td>\n",
       "      <td>63400</td>\n",
       "      <td>6340</td>\n",
       "      <td>6340</td>\n",
       "      <td>50720</td>\n",
       "      <td>Chevrolet</td>\n",
       "      <td>Tahoe</td>\n",
       "      <td>2014</td>\n",
       "      <td>Y</td>\n",
       "    </tr>\n",
       "    <tr>\n",
       "      <th>4</th>\n",
       "      <td>228</td>\n",
       "      <td>44</td>\n",
       "      <td>367455</td>\n",
       "      <td>06-06-2014</td>\n",
       "      <td>IL</td>\n",
       "      <td>500/1000</td>\n",
       "      <td>1000</td>\n",
       "      <td>1583.91</td>\n",
       "      <td>6000000</td>\n",
       "      <td>610706</td>\n",
       "      <td>...</td>\n",
       "      <td>1</td>\n",
       "      <td>NO</td>\n",
       "      <td>6500</td>\n",
       "      <td>1300</td>\n",
       "      <td>650</td>\n",
       "      <td>4550</td>\n",
       "      <td>Accura</td>\n",
       "      <td>RSX</td>\n",
       "      <td>2009</td>\n",
       "      <td>N</td>\n",
       "    </tr>\n",
       "  </tbody>\n",
       "</table>\n",
       "<p>5 rows × 39 columns</p>\n",
       "</div>"
      ],
      "text/plain": [
       "   months_as_customer  age  policy_number policy_bind_date policy_state  \\\n",
       "0                 328   48         521585       17-10-2014           OH   \n",
       "1                 228   42         342868       27-06-2006           IN   \n",
       "2                 134   29         687698       06-09-2000           OH   \n",
       "3                 256   41         227811       25-05-1990           IL   \n",
       "4                 228   44         367455       06-06-2014           IL   \n",
       "\n",
       "  policy_csl  policy_deductable  policy_annual_premium  umbrella_limit  \\\n",
       "0    250/500               1000                1406.91               0   \n",
       "1    250/500               2000                1197.22         5000000   \n",
       "2    100/300               2000                1413.14         5000000   \n",
       "3    250/500               2000                1415.74         6000000   \n",
       "4   500/1000               1000                1583.91         6000000   \n",
       "\n",
       "   insured_zip  ... witnesses police_report_available total_claim_amount  \\\n",
       "0       466132  ...         2                     YES              71610   \n",
       "1       468176  ...         0                       ?               5070   \n",
       "2       430632  ...         3                      NO              34650   \n",
       "3       608117  ...         2                      NO              63400   \n",
       "4       610706  ...         1                      NO               6500   \n",
       "\n",
       "  injury_claim property_claim  vehicle_claim  auto_make auto_model auto_year  \\\n",
       "0         6510          13020          52080       Saab        92x      2004   \n",
       "1          780            780           3510   Mercedes       E400      2007   \n",
       "2         7700           3850          23100      Dodge        RAM      2007   \n",
       "3         6340           6340          50720  Chevrolet      Tahoe      2014   \n",
       "4         1300            650           4550     Accura        RSX      2009   \n",
       "\n",
       "  fraud_reported  \n",
       "0              Y  \n",
       "1              Y  \n",
       "2              N  \n",
       "3              Y  \n",
       "4              N  \n",
       "\n",
       "[5 rows x 39 columns]"
      ]
     },
     "execution_count": 133,
     "metadata": {},
     "output_type": "execute_result"
    }
   ],
   "source": [
    "df.head()"
   ]
  },
  {
   "cell_type": "code",
   "execution_count": 134,
   "metadata": {},
   "outputs": [],
   "source": [
    "df.drop(['policy_number'],axis=1,inplace=True)"
   ]
  },
  {
   "cell_type": "markdown",
   "metadata": {},
   "source": [
    "policy number is a unique random number generated and has no effect on fraud. Thus we delete the column"
   ]
  },
  {
   "cell_type": "code",
   "execution_count": 135,
   "metadata": {},
   "outputs": [
    {
     "data": {
      "text/html": [
       "<div>\n",
       "<style scoped>\n",
       "    .dataframe tbody tr th:only-of-type {\n",
       "        vertical-align: middle;\n",
       "    }\n",
       "\n",
       "    .dataframe tbody tr th {\n",
       "        vertical-align: top;\n",
       "    }\n",
       "\n",
       "    .dataframe thead th {\n",
       "        text-align: right;\n",
       "    }\n",
       "</style>\n",
       "<table border=\"1\" class=\"dataframe\">\n",
       "  <thead>\n",
       "    <tr style=\"text-align: right;\">\n",
       "      <th></th>\n",
       "      <th>months_as_customer</th>\n",
       "      <th>age</th>\n",
       "      <th>policy_bind_date</th>\n",
       "      <th>policy_state</th>\n",
       "      <th>policy_csl</th>\n",
       "      <th>policy_deductable</th>\n",
       "      <th>policy_annual_premium</th>\n",
       "      <th>umbrella_limit</th>\n",
       "      <th>insured_zip</th>\n",
       "      <th>insured_sex</th>\n",
       "      <th>...</th>\n",
       "      <th>witnesses</th>\n",
       "      <th>police_report_available</th>\n",
       "      <th>total_claim_amount</th>\n",
       "      <th>injury_claim</th>\n",
       "      <th>property_claim</th>\n",
       "      <th>vehicle_claim</th>\n",
       "      <th>auto_make</th>\n",
       "      <th>auto_model</th>\n",
       "      <th>auto_year</th>\n",
       "      <th>fraud_reported</th>\n",
       "    </tr>\n",
       "  </thead>\n",
       "  <tbody>\n",
       "    <tr>\n",
       "      <th>0</th>\n",
       "      <td>328</td>\n",
       "      <td>48</td>\n",
       "      <td>17-10-2014</td>\n",
       "      <td>OH</td>\n",
       "      <td>250/500</td>\n",
       "      <td>1000</td>\n",
       "      <td>1406.91</td>\n",
       "      <td>0</td>\n",
       "      <td>466132</td>\n",
       "      <td>MALE</td>\n",
       "      <td>...</td>\n",
       "      <td>2</td>\n",
       "      <td>YES</td>\n",
       "      <td>71610</td>\n",
       "      <td>6510</td>\n",
       "      <td>13020</td>\n",
       "      <td>52080</td>\n",
       "      <td>Saab</td>\n",
       "      <td>92x</td>\n",
       "      <td>2004</td>\n",
       "      <td>Y</td>\n",
       "    </tr>\n",
       "    <tr>\n",
       "      <th>1</th>\n",
       "      <td>228</td>\n",
       "      <td>42</td>\n",
       "      <td>27-06-2006</td>\n",
       "      <td>IN</td>\n",
       "      <td>250/500</td>\n",
       "      <td>2000</td>\n",
       "      <td>1197.22</td>\n",
       "      <td>5000000</td>\n",
       "      <td>468176</td>\n",
       "      <td>MALE</td>\n",
       "      <td>...</td>\n",
       "      <td>0</td>\n",
       "      <td>?</td>\n",
       "      <td>5070</td>\n",
       "      <td>780</td>\n",
       "      <td>780</td>\n",
       "      <td>3510</td>\n",
       "      <td>Mercedes</td>\n",
       "      <td>E400</td>\n",
       "      <td>2007</td>\n",
       "      <td>Y</td>\n",
       "    </tr>\n",
       "    <tr>\n",
       "      <th>2</th>\n",
       "      <td>134</td>\n",
       "      <td>29</td>\n",
       "      <td>06-09-2000</td>\n",
       "      <td>OH</td>\n",
       "      <td>100/300</td>\n",
       "      <td>2000</td>\n",
       "      <td>1413.14</td>\n",
       "      <td>5000000</td>\n",
       "      <td>430632</td>\n",
       "      <td>FEMALE</td>\n",
       "      <td>...</td>\n",
       "      <td>3</td>\n",
       "      <td>NO</td>\n",
       "      <td>34650</td>\n",
       "      <td>7700</td>\n",
       "      <td>3850</td>\n",
       "      <td>23100</td>\n",
       "      <td>Dodge</td>\n",
       "      <td>RAM</td>\n",
       "      <td>2007</td>\n",
       "      <td>N</td>\n",
       "    </tr>\n",
       "    <tr>\n",
       "      <th>3</th>\n",
       "      <td>256</td>\n",
       "      <td>41</td>\n",
       "      <td>25-05-1990</td>\n",
       "      <td>IL</td>\n",
       "      <td>250/500</td>\n",
       "      <td>2000</td>\n",
       "      <td>1415.74</td>\n",
       "      <td>6000000</td>\n",
       "      <td>608117</td>\n",
       "      <td>FEMALE</td>\n",
       "      <td>...</td>\n",
       "      <td>2</td>\n",
       "      <td>NO</td>\n",
       "      <td>63400</td>\n",
       "      <td>6340</td>\n",
       "      <td>6340</td>\n",
       "      <td>50720</td>\n",
       "      <td>Chevrolet</td>\n",
       "      <td>Tahoe</td>\n",
       "      <td>2014</td>\n",
       "      <td>Y</td>\n",
       "    </tr>\n",
       "    <tr>\n",
       "      <th>4</th>\n",
       "      <td>228</td>\n",
       "      <td>44</td>\n",
       "      <td>06-06-2014</td>\n",
       "      <td>IL</td>\n",
       "      <td>500/1000</td>\n",
       "      <td>1000</td>\n",
       "      <td>1583.91</td>\n",
       "      <td>6000000</td>\n",
       "      <td>610706</td>\n",
       "      <td>MALE</td>\n",
       "      <td>...</td>\n",
       "      <td>1</td>\n",
       "      <td>NO</td>\n",
       "      <td>6500</td>\n",
       "      <td>1300</td>\n",
       "      <td>650</td>\n",
       "      <td>4550</td>\n",
       "      <td>Accura</td>\n",
       "      <td>RSX</td>\n",
       "      <td>2009</td>\n",
       "      <td>N</td>\n",
       "    </tr>\n",
       "  </tbody>\n",
       "</table>\n",
       "<p>5 rows × 38 columns</p>\n",
       "</div>"
      ],
      "text/plain": [
       "   months_as_customer  age policy_bind_date policy_state policy_csl  \\\n",
       "0                 328   48       17-10-2014           OH    250/500   \n",
       "1                 228   42       27-06-2006           IN    250/500   \n",
       "2                 134   29       06-09-2000           OH    100/300   \n",
       "3                 256   41       25-05-1990           IL    250/500   \n",
       "4                 228   44       06-06-2014           IL   500/1000   \n",
       "\n",
       "   policy_deductable  policy_annual_premium  umbrella_limit  insured_zip  \\\n",
       "0               1000                1406.91               0       466132   \n",
       "1               2000                1197.22         5000000       468176   \n",
       "2               2000                1413.14         5000000       430632   \n",
       "3               2000                1415.74         6000000       608117   \n",
       "4               1000                1583.91         6000000       610706   \n",
       "\n",
       "  insured_sex  ... witnesses police_report_available total_claim_amount  \\\n",
       "0        MALE  ...         2                     YES              71610   \n",
       "1        MALE  ...         0                       ?               5070   \n",
       "2      FEMALE  ...         3                      NO              34650   \n",
       "3      FEMALE  ...         2                      NO              63400   \n",
       "4        MALE  ...         1                      NO               6500   \n",
       "\n",
       "  injury_claim  property_claim  vehicle_claim  auto_make auto_model auto_year  \\\n",
       "0         6510           13020          52080       Saab        92x      2004   \n",
       "1          780             780           3510   Mercedes       E400      2007   \n",
       "2         7700            3850          23100      Dodge        RAM      2007   \n",
       "3         6340            6340          50720  Chevrolet      Tahoe      2014   \n",
       "4         1300             650           4550     Accura        RSX      2009   \n",
       "\n",
       "  fraud_reported  \n",
       "0              Y  \n",
       "1              Y  \n",
       "2              N  \n",
       "3              Y  \n",
       "4              N  \n",
       "\n",
       "[5 rows x 38 columns]"
      ]
     },
     "execution_count": 135,
     "metadata": {},
     "output_type": "execute_result"
    }
   ],
   "source": [
    "df.head()"
   ]
  },
  {
   "cell_type": "code",
   "execution_count": 136,
   "metadata": {},
   "outputs": [
    {
     "data": {
      "text/plain": [
       "Index(['months_as_customer', 'age', 'policy_bind_date', 'policy_state',\n",
       "       'policy_csl', 'policy_deductable', 'policy_annual_premium',\n",
       "       'umbrella_limit', 'insured_zip', 'insured_sex',\n",
       "       'insured_education_level', 'insured_occupation', 'insured_hobbies',\n",
       "       'insured_relationship', 'capital-gains', 'capital-loss',\n",
       "       'incident_date', 'incident_type', 'collision_type', 'incident_severity',\n",
       "       'authorities_contacted', 'incident_state', 'incident_city',\n",
       "       'incident_location', 'incident_hour_of_the_day',\n",
       "       'number_of_vehicles_involved', 'property_damage', 'bodily_injuries',\n",
       "       'witnesses', 'police_report_available', 'total_claim_amount',\n",
       "       'injury_claim', 'property_claim', 'vehicle_claim', 'auto_make',\n",
       "       'auto_model', 'auto_year', 'fraud_reported'],\n",
       "      dtype='object')"
      ]
     },
     "execution_count": 136,
     "metadata": {},
     "output_type": "execute_result"
    }
   ],
   "source": [
    "df.columns"
   ]
  },
  {
   "cell_type": "code",
   "execution_count": 137,
   "metadata": {},
   "outputs": [
    {
     "data": {
      "text/plain": [
       "months_as_customer             0\n",
       "age                            0\n",
       "policy_bind_date               0\n",
       "policy_state                   0\n",
       "policy_csl                     0\n",
       "policy_deductable              0\n",
       "policy_annual_premium          0\n",
       "umbrella_limit                 0\n",
       "insured_zip                    0\n",
       "insured_sex                    0\n",
       "insured_education_level        0\n",
       "insured_occupation             0\n",
       "insured_hobbies                0\n",
       "insured_relationship           0\n",
       "capital-gains                  0\n",
       "capital-loss                   0\n",
       "incident_date                  0\n",
       "incident_type                  0\n",
       "collision_type                 0\n",
       "incident_severity              0\n",
       "authorities_contacted          0\n",
       "incident_state                 0\n",
       "incident_city                  0\n",
       "incident_location              0\n",
       "incident_hour_of_the_day       0\n",
       "number_of_vehicles_involved    0\n",
       "property_damage                0\n",
       "bodily_injuries                0\n",
       "witnesses                      0\n",
       "police_report_available        0\n",
       "total_claim_amount             0\n",
       "injury_claim                   0\n",
       "property_claim                 0\n",
       "vehicle_claim                  0\n",
       "auto_make                      0\n",
       "auto_model                     0\n",
       "auto_year                      0\n",
       "fraud_reported                 0\n",
       "dtype: int64"
      ]
     },
     "execution_count": 137,
     "metadata": {},
     "output_type": "execute_result"
    }
   ],
   "source": [
    "df.isnull().sum()"
   ]
  },
  {
   "cell_type": "markdown",
   "metadata": {},
   "source": [
    "There are no missing values in the data"
   ]
  },
  {
   "cell_type": "markdown",
   "metadata": {},
   "source": [
    "# Visualizing data"
   ]
  },
  {
   "cell_type": "code",
   "execution_count": 138,
   "metadata": {},
   "outputs": [
    {
     "data": {
      "text/plain": [
       "<matplotlib.axes._subplots.AxesSubplot at 0x2520c825250>"
      ]
     },
     "execution_count": 138,
     "metadata": {},
     "output_type": "execute_result"
    },
    {
     "data": {
      "image/png": "[encoded data removed]",
      "text/plain": [
       "<Figure size 432x288 with 1 Axes>"
      ]
     },
     "metadata": {
      "needs_background": "light"
     },
     "output_type": "display_data"
    }
   ],
   "source": [
    "sns.countplot(df['fraud_reported'])"
   ]
  },
  {
   "cell_type": "markdown",
   "metadata": {},
   "source": [
    "We see a data imbalance in target attribute"
   ]
  },
  {
   "cell_type": "code",
   "execution_count": 139,
   "metadata": {},
   "outputs": [
    {
     "data": {
      "text/plain": [
       "<matplotlib.axes._subplots.AxesSubplot at 0x2520c8325e0>"
      ]
     },
     "execution_count": 139,
     "metadata": {},
     "output_type": "execute_result"
    },
    {
     "data": {
      "image/png": "[encoded data removed]",
      "text/plain": [
       "<Figure size 1296x720 with 1 Axes>"
      ]
     },
     "metadata": {
      "needs_background": "light"
     },
     "output_type": "display_data"
    }
   ],
   "source": [
    "plt.figure(figsize=(18,10))\n",
    "sns.countplot(df['insured_hobbies'])"
   ]
  },
  {
   "cell_type": "markdown",
   "metadata": {},
   "source": [
    "There is no imbalance in the data with respect to hobbies"
   ]
  },
  {
   "cell_type": "code",
   "execution_count": 140,
   "metadata": {},
   "outputs": [
    {
     "data": {
      "text/plain": [
       "<matplotlib.axes._subplots.AxesSubplot at 0x2520c888940>"
      ]
     },
     "execution_count": 140,
     "metadata": {},
     "output_type": "execute_result"
    },
    {
     "data": {
      "image/png": "[encoded data removed]",
      "text/plain": [
       "<Figure size 1296x720 with 1 Axes>"
      ]
     },
     "metadata": {
      "needs_background": "light"
     },
     "output_type": "display_data"
    }
   ],
   "source": [
    "plt.figure(figsize=(18,10))\n",
    "sns.countplot(x='insured_hobbies',data=df,hue='fraud_reported')"
   ]
  },
  {
   "cell_type": "markdown",
   "metadata": {},
   "source": [
    "People playing chess and cross fitters are doing more frauds"
   ]
  },
  {
   "cell_type": "code",
   "execution_count": 141,
   "metadata": {},
   "outputs": [
    {
     "data": {
      "text/plain": [
       "<matplotlib.axes._subplots.AxesSubplot at 0x2520c832040>"
      ]
     },
     "execution_count": 141,
     "metadata": {},
     "output_type": "execute_result"
    },
    {
     "data": {
      "image/png": "[encoded data removed]",
      "text/plain": [
       "<Figure size 1296x720 with 1 Axes>"
      ]
     },
     "metadata": {
      "needs_background": "light"
     },
     "output_type": "display_data"
    }
   ],
   "source": [
    "plt.figure(figsize=(18,10))\n",
    "sns.countplot(x='incident_severity',data=df,hue='fraud_reported')"
   ]
  },
  {
   "cell_type": "markdown",
   "metadata": {},
   "source": [
    "The chances of fraud reporting are more when incident severity is major damage"
   ]
  },
  {
   "cell_type": "markdown",
   "metadata": {},
   "source": [
    "# Encoding the data that is not in numerical form"
   ]
  },
  {
   "cell_type": "code",
   "execution_count": 142,
   "metadata": {},
   "outputs": [],
   "source": [
    "from sklearn.preprocessing import LabelEncoder"
   ]
  },
  {
   "cell_type": "code",
   "execution_count": 143,
   "metadata": {},
   "outputs": [],
   "source": [
    "le=LabelEncoder()"
   ]
  },
  {
   "cell_type": "code",
   "execution_count": 144,
   "metadata": {},
   "outputs": [
    {
     "data": {
      "text/plain": [
       "Index(['months_as_customer', 'age', 'policy_bind_date', 'policy_state',\n",
       "       'policy_csl', 'policy_deductable', 'policy_annual_premium',\n",
       "       'umbrella_limit', 'insured_zip', 'insured_sex',\n",
       "       'insured_education_level', 'insured_occupation', 'insured_hobbies',\n",
       "       'insured_relationship', 'capital-gains', 'capital-loss',\n",
       "       'incident_date', 'incident_type', 'collision_type', 'incident_severity',\n",
       "       'authorities_contacted', 'incident_state', 'incident_city',\n",
       "       'incident_location', 'incident_hour_of_the_day',\n",
       "       'number_of_vehicles_involved', 'property_damage', 'bodily_injuries',\n",
       "       'witnesses', 'police_report_available', 'total_claim_amount',\n",
       "       'injury_claim', 'property_claim', 'vehicle_claim', 'auto_make',\n",
       "       'auto_model', 'auto_year', 'fraud_reported'],\n",
       "      dtype='object')"
      ]
     },
     "execution_count": 144,
     "metadata": {},
     "output_type": "execute_result"
    }
   ],
   "source": [
    "df.columns"
   ]
  },
  {
   "cell_type": "code",
   "execution_count": 145,
   "metadata": {},
   "outputs": [
    {
     "name": "stdout",
     "output_type": "stream",
     "text": [
      "<class 'pandas.core.frame.DataFrame'>\n",
      "RangeIndex: 1000 entries, 0 to 999\n",
      "Data columns (total 38 columns):\n",
      " #   Column                       Non-Null Count  Dtype  \n",
      "---  ------                       --------------  -----  \n",
      " 0   months_as_customer           1000 non-null   int64  \n",
      " 1   age                          1000 non-null   int64  \n",
      " 2   policy_bind_date             1000 non-null   object \n",
      " 3   policy_state                 1000 non-null   object \n",
      " 4   policy_csl                   1000 non-null   object \n",
      " 5   policy_deductable            1000 non-null   int64  \n",
      " 6   policy_annual_premium        1000 non-null   float64\n",
      " 7   umbrella_limit               1000 non-null   int64  \n",
      " 8   insured_zip                  1000 non-null   int64  \n",
      " 9   insured_sex                  1000 non-null   object \n",
      " 10  insured_education_level      1000 non-null   object \n",
      " 11  insured_occupation           1000 non-null   object \n",
      " 12  insured_hobbies              1000 non-null   object \n",
      " 13  insured_relationship         1000 non-null   object \n",
      " 14  capital-gains                1000 non-null   int64  \n",
      " 15  capital-loss                 1000 non-null   int64  \n",
      " 16  incident_date                1000 non-null   object \n",
      " 17  incident_type                1000 non-null   object \n",
      " 18  collision_type               1000 non-null   object \n",
      " 19  incident_severity            1000 non-null   object \n",
      " 20  authorities_contacted        1000 non-null   object \n",
      " 21  incident_state               1000 non-null   object \n",
      " 22  incident_city                1000 non-null   object \n",
      " 23  incident_location            1000 non-null   object \n",
      " 24  incident_hour_of_the_day     1000 non-null   int64  \n",
      " 25  number_of_vehicles_involved  1000 non-null   int64  \n",
      " 26  property_damage              1000 non-null   object \n",
      " 27  bodily_injuries              1000 non-null   int64  \n",
      " 28  witnesses                    1000 non-null   int64  \n",
      " 29  police_report_available      1000 non-null   object \n",
      " 30  total_claim_amount           1000 non-null   int64  \n",
      " 31  injury_claim                 1000 non-null   int64  \n",
      " 32  property_claim               1000 non-null   int64  \n",
      " 33  vehicle_claim                1000 non-null   int64  \n",
      " 34  auto_make                    1000 non-null   object \n",
      " 35  auto_model                   1000 non-null   object \n",
      " 36  auto_year                    1000 non-null   int64  \n",
      " 37  fraud_reported               1000 non-null   object \n",
      "dtypes: float64(1), int64(16), object(21)\n",
      "memory usage: 297.0+ KB\n"
     ]
    }
   ],
   "source": [
    "df.info()"
   ]
  },
  {
   "cell_type": "code",
   "execution_count": 146,
   "metadata": {},
   "outputs": [],
   "source": [
    "df['insured_sex']=le.fit_transform(df['insured_sex'])"
   ]
  },
  {
   "cell_type": "code",
   "execution_count": 147,
   "metadata": {},
   "outputs": [],
   "source": [
    "df['fraud_reported']=le.fit_transform(df['fraud_reported'])"
   ]
  },
  {
   "cell_type": "code",
   "execution_count": 148,
   "metadata": {},
   "outputs": [
    {
     "data": {
      "text/plain": [
       "<matplotlib.axes._subplots.AxesSubplot at 0x2520cf8da00>"
      ]
     },
     "execution_count": 148,
     "metadata": {},
     "output_type": "execute_result"
    },
    {
     "data": {
      "image/png": "[encoded data removed]",
      "text/plain": [
       "<Figure size 1296x720 with 2 Axes>"
      ]
     },
     "metadata": {
      "needs_background": "light"
     },
     "output_type": "display_data"
    }
   ],
   "source": [
    "plt.figure(figsize=(18,10))\n",
    "sns.heatmap(df.corr(),cmap='Blues',annot=True)"
   ]
  },
  {
   "cell_type": "markdown",
   "metadata": {},
   "source": [
    "Vehicle claim amount and vehilcle claim has high correlation"
   ]
  },
  {
   "cell_type": "code",
   "execution_count": 149,
   "metadata": {},
   "outputs": [
    {
     "data": {
      "text/plain": [
       "array(['9935 4th Drive', '6608 MLK Hwy', '7121 Francis Lane',\n",
       "       '6956 Maple Drive', '3041 3rd Ave', '8973 Washington St',\n",
       "       '5846 Weaver Drive', '3525 3rd Hwy', '4872 Rock Ridge',\n",
       "       '3066 Francis Ave', '1558 1st Ridge', '5971 5th Hwy',\n",
       "       '6655 5th Drive', '6582 Elm Lane', '6851 3rd Drive',\n",
       "       '9573 Weaver Ave', '5074 3rd St', '4546 Tree St',\n",
       "       '3842 Solo Ridge', '8101 3rd Ridge', '5380 Pine St',\n",
       "       '8957 Weaver Drive', '2526 Embaracadero Ave', '5667 4th Drive',\n",
       "       '2502 Apache Hwy', '3418 Texas Lane', '2533 Elm St',\n",
       "       '3790 Andromedia Hwy', '3220 Rock Drive', '2100 Francis Drive',\n",
       "       '4687 5th Drive', '9038 2nd Lane', '6092 5th Ave',\n",
       "       '8353 Britain Ridge', '3540 Maple St', '3104 Sky Drive',\n",
       "       '4981 Weaver St', '6676 Tree Lane', '3930 Embaracadero St',\n",
       "       '3422 Flute St', '4862 Lincoln Hwy', '5719 2nd Lane',\n",
       "       '3221 Solo Ridge', '6660 MLK Drive', '1699 Oak Drive',\n",
       "       '4234 Cherokee Lane', '7476 4th St', '8907 Tree Ave',\n",
       "       '6619 Flute Ave', '6011 Britain St', '5104 Francis Drive',\n",
       "       '2280 4th Ave', '2644 Elm Drive', '7466 MLK Ridge', '5821 2nd St',\n",
       "       '6723 Best Drive', '4866 4th Hwy', '5418 Britain Ave',\n",
       "       '4296 Pine Hwy', '2299 1st St', '6618 Cherokee Drive',\n",
       "       '7459 Flute St', '3567 4th Drive', '2457 Washington Ave',\n",
       "       '1269 Flute Drive', '1218 Sky Hwy', '9169 Pine Ridge',\n",
       "       '8538 Texas Lane', '5783 Oak Ave', '7721 Washington Ridge',\n",
       "       '8006 Maple Hwy', '6751 Pine Ridge', '2324 Texas Ridge',\n",
       "       '7923 Elm Ave', '4755 Best Lane', '5053 Tree Drive',\n",
       "       '2078 3rd Ave', '2804 Best St', '7877 Sky Lane', '6530 Weaver Ave',\n",
       "       '3087 Oak Hwy', '7098 Lincoln Hwy', '5124 Maple St',\n",
       "       '2333 Maple Lane', '1012 5th Lane', '7477 MLK Drive',\n",
       "       '9489 3rd St', '2087 Apache Ave', '5540 Sky St', '7238 2nd St',\n",
       "       '8442 Britain Hwy', '1331 Britain Hwy', '5260 Francis Drive',\n",
       "       '1135 Solo Lane', '9737 Solo Hwy', '3289 Britain Drive',\n",
       "       '6550 Andromedia St', '1679 2nd Hwy', '3998 Flute St',\n",
       "       '2430 MLK Ave', '7717 Britain Hwy', '7773 Tree Hwy',\n",
       "       '2199 Texas Drive', '1028 Sky Lane', '4154 Lincoln Hwy',\n",
       "       '8085 Andromedia St', '4793 4th Ridge', '7428 Sky Hwy',\n",
       "       '2306 5th Lane', '3052 Weaver Ridge', '5211 Weaver Drive',\n",
       "       '7253 MLK St', '1454 5th Ridge', '5622 Best Ridge',\n",
       "       '4574 Britain Hwy', '4539 Texas St', '8118 Elm Ridge',\n",
       "       '3814 Britain Drive', '4614 MLK Ave', '1628 Best Drive',\n",
       "       '8381 Solo Hwy', '2100 MLK St', '5071 Flute Ridge',\n",
       "       '7551 Britain Lane', '2275 Best Lane', '1598 3rd Drive',\n",
       "       '7740 MLK St', '1240 Tree Lane', '8983 Francis Ridge',\n",
       "       '7756 Solo Drive', '9034 Weaver Ridge', '1126 Texas Hwy',\n",
       "       '2808 Elm St', '5061 Francis Ave', '4965 MLK Drive',\n",
       "       '8668 Flute St', '2577 Washington Drive', '7709 Rock Lane',\n",
       "       '9358 Texas Ridge', '8080 Oak Lane', '6408 Weaver Ridge',\n",
       "       '5532 Weaver Ridge', '9101 2nd Hwy', '8576 Andromedia St',\n",
       "       '6315 2nd Lane', '1536 Flute Drive', '4672 MLK St',\n",
       "       '2204 Washington Lane', '9484 Pine Drive', '5431 3rd Ridge',\n",
       "       '7121 Britain Drive', '8586 1st Ridge', '7582 Pine Drive',\n",
       "       '1388 Embaracadero Hwy', '5621 4th Ave', '8150 Washington Ridge',\n",
       "       '4268 2nd Ave', '6375 2nd Lane', '3770 Flute Drive',\n",
       "       '1562 Britain St', '1681 Cherokee Hwy', '7523 Oak Lane',\n",
       "       '1815 Cherokee Drive', '9316 Pine Ave', '2733 Texas Drive',\n",
       "       '7684 Francis Ridge', '8991 Embaracadero Ave', '4905 Francis Ave',\n",
       "       '7783 Lincoln Hwy', '8749 Tree St', '4985 Sky Lane',\n",
       "       '7534 MLK Hwy', '8689 Maple Hwy', '9153 3rd Hwy', '5904 1st Drive',\n",
       "       '4519 Embaracadero St', '9706 MLK Lane', '6012 Texas Hwy',\n",
       "       '4098 Weaver Ridge', '6193 1st Hwy', '4053 Sky Lane',\n",
       "       '8964 Francis St', '9748 Sky Drive', '2293 Washington Ave',\n",
       "       '3656 Solo Ave', '8579 Apache Drive', '2003 Maple Hwy',\n",
       "       '5445 Tree Hwy', '9730 2nd Hwy', '7819 Oak St', '1845 Best St',\n",
       "       '2500 Tree St', '6955 Pine Drive', '6165 Rock Ridge',\n",
       "       '3653 Elm Drive', '5812 3rd Hwy', '4939 Best St', '4964 Elm Lane',\n",
       "       '9588 Solo St', '8718 Apache Lane', '3590 Best Hwy',\n",
       "       '6149 Best Ridge', '4116 Embaracadero Lane', '3486 Flute Ave',\n",
       "       '5994 5th Ave', '9138 3rd St', '3743 Andromedia Ridge',\n",
       "       '7644 Tree Ridge', '3167 2nd St', '3327 Lincoln Drive',\n",
       "       '8621 Best Ridge', '3878 Tree Lane', '9760 Solo Lane',\n",
       "       '9138 1st St', '3414 Elm Ave', '3172 Tree Ridge', '6104 Oak Ave',\n",
       "       '9742 5th Ridge', '8782 3rd St', '9798 Sky Ridge',\n",
       "       '5483 Francis Drive', '2005 Texas Hwy', '6634 Texas Ridge',\n",
       "       '8655 Cherokee Lane', '4955 Lincoln Ridge', '7705 Best Ridge',\n",
       "       '5838 Pine Lane', '7331 Sky Hwy', '5640 Embaracadero Lane',\n",
       "       '9610 Cherokee St', '3550 Washington Ave', '5277 Texas Lane',\n",
       "       '3654 Cherokee Ave', '7380 5th Hwy', '2539 Embaracadero Ridge',\n",
       "       '4693 Lincoln Hwy', '2376 Sky Ridge', '1273 Rock Lane',\n",
       "       '8281 Lincoln Lane', '6429 4th Hwy', '2201 4th Lane',\n",
       "       '5506 Best St', '8404 Embaracadero St', '2117 Lincoln Hwy',\n",
       "       '6359 MLK Ridge', '9751 Sky Ridge', '9020 Elm Ave', '1830 Sky St',\n",
       "       '6067 Weaver Ridge', '1840 Embaracadero Ave', '4058 Tree Drive',\n",
       "       '4983 MLK Ridge', '9744 Texas Drive', '8821 Elm St',\n",
       "       '2886 Tree Ridge', '5236 Weaver Drive', '5862 Apache Ridge',\n",
       "       '7859 4th Ridge', '6259 Weaver St', '9980 Lincoln Ave',\n",
       "       '7828 Cherokee Ave', '5812 Oak St', '2318 Washington Hwy',\n",
       "       '8809 Flute St', '3184 Oak Ave', '6493 Lincoln Lane',\n",
       "       '7162 Maple Ave', '5455 Tree Ridge', '5778 Pine Ridge',\n",
       "       '3797 Solo Lane', '9373 Pine Hwy', '1365 Francis Ave',\n",
       "       '9239 Washington Ridge', '3416 Washington Drive', '1923 2nd Hwy',\n",
       "       '6451 1st Hwy', '1267 Francis Hwy', '4158 Washington Lane',\n",
       "       '3796 Cherokee Drive', '7434 Oak Hwy', '5178 Weaver Hwy',\n",
       "       '8477 Francis Hwy', '7693 Britain Lane', '3658 Rock Drive',\n",
       "       '2617 Andromedia Drive', '9279 Oak Hwy', '3439 Andromedia Hwy',\n",
       "       '5901 Elm Drive', '3982 Washington Hwy', '3376 5th Drive',\n",
       "       '3936 Tree Drive', '6605 Tree Ave', '3102 Apache St',\n",
       "       '7756 Pine Hwy', '7142 5th Lane', '2914 Oak Drive',\n",
       "       '6522 Apache Drive', '5279 Pine Ridge', '8078 Britain Hwy',\n",
       "       '1133 Apache St', '2873 Flute Ave', '8509 Apache St',\n",
       "       '8245 4th Hwy', '3094 Best Lane', '8188 Tree Ave', '5224 5th Lane',\n",
       "       '2230 1st St', '6719 Flute St', '8064 4th Ave',\n",
       "       '2469 Francis Lane', '4671 5th Ridge', '6985 Maple Lane',\n",
       "       '7791 Britain Ridge', '6355 4th Hwy', '3495 Britain Drive',\n",
       "       '2980 Sky Ridge', '5914 Oak Ave', '3835 5th Ave', '5925 Tree Hwy',\n",
       "       '6250 1st Ridge', '1346 5th Lane', '1128 Maple Lane',\n",
       "       '6309 Cherokee Ave', '4618 Flute Ave', '6191 Oak Lane',\n",
       "       '1316 Britain Ridge', '5924 Maple Drive', '8917 Tree Ridge',\n",
       "       '3966 Francis Ridge', '1507 Solo Ave', '4272 Oak Ridge',\n",
       "       '4434 Lincoln Ave', '7529 Solo Ridge', '8096 Apache Hwy',\n",
       "       '9417 Tree Hwy', '3809 Texas Lane', '1540 Apache Lane',\n",
       "       '2337 Lincoln Hwy', '6770 1st St', '4119 Texas St',\n",
       "       '4347 2nd Ridge', '1091 1st Drive', '8203 Lincoln Ave',\n",
       "       '9154 MLK Hwy', '5780 4th Ave', '6945 Texas Hwy', '5639 1st Ridge',\n",
       "       '3834 Pine St', '1358 Maple St', '7460 Apache Lane',\n",
       "       '5771 Sky Ave', '2865 Maple Lane', '8940 Elm Ave', '1215 Pine Hwy',\n",
       "       '6874 Maple Ridge', '8834 Elm Drive', '8542 Lincoln Ridge',\n",
       "       '9397 Francis St', '4907 Andromedia Drive', '4429 Washington St',\n",
       "       '2651 MLK Lane', '2942 1st Lane', '6317 Best St',\n",
       "       '1555 Washington Lane', '1919 4th Lane', '5480 3rd Ridge',\n",
       "       '8864 Tree Ridge', '2777 Solo Drive', '9929 Rock Drive',\n",
       "       '4143 Maple Ridge', '7121 Rock St', '9067 Texas Ave',\n",
       "       '9245 Weaver Ridge', '4585 Francis Ave', '6738 Francis Hwy',\n",
       "       '7576 Pine Ridge', '9105 Tree Lane', '2299 Britain Drive',\n",
       "       '1914 Francis St', '6658 Weaver St', '1985 5th Ave',\n",
       "       '1707 Sky Ave', '6456 Andromedia Drive', '5649 Texas Ave',\n",
       "       '1220 MLK Ave', '1589 Pine St', '8906 Elm Lane', '2654 Elm Drive',\n",
       "       '6681 Texas Ridge', '7782 Rock St', '9286 Oak Ave', '8758 5th St',\n",
       "       '7281 Maple Hwy', '7571 Elm Ridge', '6738 Washington Hwy',\n",
       "       '4188 Britain Ave', '6934 Lincoln Ave', '6390 Apache St',\n",
       "       '7615 Weaver Drive', '6409 Cherokee Drive', '1123 5th Lane',\n",
       "       '5168 5th Ave', '3697 Apache Drive', '1910 Sky Ave',\n",
       "       '8954 Apache Lane', '3110 Lincoln Lane', '6035 Rock Ave',\n",
       "       '2220 1st Lane', '4972 Francis Lane', '6957 Weaver Drive',\n",
       "       '1512 Rock Lane', '3693 Pine Ave', '9879 Apache Drive',\n",
       "       '2494 Andromedia Drive', '4615 Embaracadero Ave',\n",
       "       '1929 Britain Drive', '5051 Elm St', '9910 Maple Ave',\n",
       "       '5602 Britain St', '6889 Cherokee St', '3926 Rock Lane',\n",
       "       '6717 Best Drive', '6117 4th Ave', '2668 Cherokee St',\n",
       "       '6838 Flute Lane', '6583 MLK Ridge', '6492 4th Lane',\n",
       "       '7299 Apache St', '2756 Britain Hwy', '9360 3rd Drive',\n",
       "       '1655 Francis Hwy', '9720 Lincoln Hwy', '7066 Texas Ave',\n",
       "       '9728 Britain Hwy', '4486 Cherokee Ridge', '8021 Flute Ave',\n",
       "       '2774 Apache Drive', '2787 MLK St', '9847 Elm St',\n",
       "       '4629 Elm Ridge', '5585 Washington Drive', '3925 Sky St',\n",
       "       '3903 Oak Ave', '3805 Lincoln Hwy', '4055 2nd Drive',\n",
       "       '3707 Oak Ridge', '7327 Lincoln Drive', '9369 Flute Hwy',\n",
       "       '4239 Weaver Ave', '6044 Weaver Drive', '8879 1st Drive',\n",
       "       '9488 Best Drive', '7500 Texas Ridge', '2048 3rd Ridge',\n",
       "       '3419 Apache St', '9875 MLK Ave', '3553 Texas Ave', '4335 1st St',\n",
       "       '9070 Tree Ave', '3900 Texas St', '9657 5th Ave',\n",
       "       '5765 Washington St', '5997 Embaracadero Drive', '1738 Solo Lane',\n",
       "       '2903 Weaver Drive', '8926 Texas Ridge', '4231 3rd Ave',\n",
       "       '8049 4th St', '6501 5th Drive', '7909 Andromedia Hwy',\n",
       "       '5865 Sky Lane', '1957 Washington Ave', '7649 Texas St',\n",
       "       '1992 Britain Drive', '9685 Sky Ridge', '3457 Texas Lane',\n",
       "       '7693 Cherokee Lane', '3167 4th Ridge', '1617 Rock Drive',\n",
       "       '7877 3rd Ridge', '9325 Lincoln Drive', '5855 Apache St',\n",
       "       '1328 Texas Lane', '4567 Pine Ave', '7575 Pine St',\n",
       "       '2850 Washington St', '9169 Cherokee Hwy', '6443 Washington Ridge',\n",
       "       '6751 5th Hwy', '2289 Weaver Ridge', '8306 1st Drive',\n",
       "       '2603 Andromedia Hwy', '6479 Francis Ave', '6428 Andromedia Lane',\n",
       "       '9081 Cherokee Hwy', '1532 Washington St', '4625 MLK Drive',\n",
       "       '1529 Elm Ridge', '2086 Francis Drive', '9066 Best Ridge',\n",
       "       '7178 Best Drive', '9821 Francis Ave', '7061 Cherokee Drive',\n",
       "       '1325 1st Lane', '3769 Sky St', '8489 Pine Hwy', '6329 Apache Ave',\n",
       "       '9293 Pine Lane', '9224 Sky Drive', '8862 Maple Ridge',\n",
       "       '3492 Flute Lane', '6484 Tree Drive', '4554 Sky Ave',\n",
       "       '5201 Texas Hwy', '3982 Weaver Lane', '3660 Andromedia Hwy',\n",
       "       '7135 Flute Lane', '4414 Solo Drive', '2920 5th Ave',\n",
       "       '2986 MLK Drive', '1580 Maple Lane', '3706 Texas Hwy',\n",
       "       '9109 Britain Drive', '2290 4th Ave', '4232 Britain Ridge',\n",
       "       '6677 Andromedia Drive', '5868 Sky Hwy', '3053 Lincoln Drive',\n",
       "       '7041 Tree Ridge', '7223 Embaracadero St', '8081 Flute Ridge',\n",
       "       '8618 Texas Lane', '3508 Washington St', '2193 4th Ridge',\n",
       "       '8897 Sky St', '9611 Pine Ridge', '7825 1st Ridge', '3039 Oak Hwy',\n",
       "       '8204 Pine Lane', '9787 Andromedia Ave', '9633 Rock Hwy',\n",
       "       '6303 1st Drive', '2014 Rock Ave', '8983 Tree St', '6260 5th Lane',\n",
       "       '2725 Britain Ridge', '3089 Oak Ridge', '6206 3rd Ridge',\n",
       "       '7240 5th Ridge', '8100 3rd Ave', '3282 4th Lane',\n",
       "       '3227 Maple Ave', '4264 Lincoln Ridge', '2215 Best Ave',\n",
       "       '5363 Weaver Lane', '2397 Cherokee Ave', '9794 Embaracadero St',\n",
       "       '1810 Elm Hwy', '9603 Texas Lane', '5650 Sky Drive',\n",
       "       '9633 MLK Lane', '4981 Flute Hwy', '9078 Francis Ridge',\n",
       "       '1381 Francis Ave', '6435 Texas Ave', '1248 MLK Ridge',\n",
       "       '3323 1st Lane', '6971 Best Ridge', '7488 Lincoln Lane',\n",
       "       '9007 Francis Hwy', '1491 Francis Ridge', '3659 Oak Lane',\n",
       "       '4176 Britain Hwy', '5189 Francis Drive', '6515 Oak Lane',\n",
       "       '7168 Andromedia Ridge', '7954 Tree Ridge', '1956 Apache St',\n",
       "       '9918 Andromedia Drive', '5499 Flute Ridge', '3311 2nd Drive',\n",
       "       '7609 Rock St', '4652 Flute Drive', '6853 Sky Hwy',\n",
       "       '7780 Flute Lane', '1687 3rd Lane', '6378 Britain Ave',\n",
       "       '1306 Andromedia St', '3664 Francis Ridge', '5985 Lincoln Lane',\n",
       "       '3706 4th Hwy', '6603 Francis Hwy', '7069 4th Hwy',\n",
       "       '5093 Flute Lane', '5894 Flute Drive', '8459 Apache Ave',\n",
       "       '7447 Lincoln Ridge', '1821 Andromedia Ridge', '6859 Flute Ridge',\n",
       "       '4175 Elm Ridge', '5007 Oak St', '5790 Flute Ridge',\n",
       "       '8704 Britain Lane', '7816 MLK Lane', '3618 Maple Lane',\n",
       "       '7705 Lincoln Drive', '8602 Washington Ridge',\n",
       "       '2832 Andromedia Lane', '9760 4th Hwy', '2509 Rock Drive',\n",
       "       '2063 Weaver St', '3818 Texas Ridge', '3929 Elm Ave',\n",
       "       '9911 Britain Lane', '3246 Britain Ridge', '2696 Cherokee Ridge',\n",
       "       '5249 4th Ave', '4721 Cherokee Hwy', '8212 Flute Ridge',\n",
       "       '3592 MLK Ridge', '6494 4th Ave', '6608 Apache Lane',\n",
       "       '1553 Lincoln St', '7628 4th Lane', '3028 5th St', '8949 Rock Hwy',\n",
       "       '9751 Tree St', '4702 Texas Drive', '2757 4th Hwy',\n",
       "       '6678 Weaver Drive', '8667 Weaver Lane', '4931 Maple Drive',\n",
       "       '3808 5th Ave', '1725 Solo Lane', '8097 Maple Lane',\n",
       "       '3320 5th Hwy', '9573 2nd Ave', '8336 1st Ridge', '3998 4th Hwy',\n",
       "       '3966 Oak Hwy', '7601 Andromedia Lane', '5160 2nd Hwy',\n",
       "       '3288 Tree Lane', '5874 1st Hwy', '6467 Best Ave', '6309 5th Ave',\n",
       "       '8212 Rock Ave', '4107 MLK Ridge', '4558 3rd Hwy',\n",
       "       '1762 Maple Hwy', '5532 Francis Lane', '6158 Sky Ridge',\n",
       "       '9214 Elm Ridge', '1833 Solo Ave', '1953 Sky Lane',\n",
       "       '6834 1st Drive', '9562 4th Ridge', '4835 Britain Ridge',\n",
       "       '8548 Cherokee Ridge', '2352 MLK Drive', '9734 2nd Ridge',\n",
       "       '3122 Apache Drive', '9816 Britain St', '8214 Flute St',\n",
       "       '6259 Lincoln Hwy', '4492 Andromedia Ave', '6179 3rd Ridge',\n",
       "       '3799 Embaracadero Drive', '5071 1st Lane', '6574 4th Drive',\n",
       "       '2711 Britain Ave', '4214 MLK Ridge', '7976 Britain Drive',\n",
       "       '4995 Weaver Ridge', '1515 Embaracadero St', '2968 Andromedia Ave',\n",
       "       '9236 2nd Hwy', '9639 Britain Ridge', '9422 Washington Ridge',\n",
       "       '1213 4th Lane', '3872 5th Drive', '9397 5th Hwy', '8876 1st St',\n",
       "       '3397 5th Ave', '3263 Pine Ridge', '8639 5th Hwy',\n",
       "       '5743 4th Ridge', '3555 Francis Ridge', '4939 Oak Lane',\n",
       "       '3100 Best St', '3029 5th Ave', '8941 Solo Ridge',\n",
       "       '4447 Francis Hwy', '7701 Tree St', '4653 Pine St', '8742 4th St',\n",
       "       '7316 Texas Ave', '2950 MLK Ave', '8233 Tree Drive',\n",
       "       '4642 Rock Ridge', '7733 Britain Lane', '2753 Cherokee Ave',\n",
       "       '3995 Lincoln Hwy', '4095 MLK St', '5782 Rock Drive',\n",
       "       '2900 Sky Drive', '1515 Pine Lane', '4876 Washington Drive',\n",
       "       '5779 2nd Lane', '6706 Francis Drive', '6384 5th Ridge',\n",
       "       '3006 Lincoln Ridge', '5352 Lincoln Drive', '6110 Rock Ridge',\n",
       "       '7797 Tree Ridge', '4910 1st Lane', '8766 Lincoln Lane',\n",
       "       '6399 Oak Drive', '3127 Flute St', '8920 Best Ave',\n",
       "       '7314 Tree Drive', '8872 Oak Ridge', '5022 1st St',\n",
       "       '3423 Francis Ave', '9529 4th Drive', '1818 Tree St',\n",
       "       '4431 Rock St', '4782 Sky Lane', '7112 Weaver Ave',\n",
       "       '4020 Best Drive', '2037 5th Drive', '4699 Texas Ridge',\n",
       "       '1832 Elm Hwy', '5226 Maple St', '3771 4th St', '8701 5th Lane',\n",
       "       '7574 4th St', '1989 Solo Lane', '6331 MLK Ave', '8453 Elm St',\n",
       "       '1422 Flute Ave', '5058 4th Lane', '3098 Oak Lane',\n",
       "       '9103 MLK Lane', '8624 Francis Ave', '2905 Embaracadero Drive',\n",
       "       '3443 Maple Ridge', '1618 Maple Hwy', '3751 Tree Hwy',\n",
       "       '6848 Elm Hwy', '4237 4th St', '6581 Rock Ridge',\n",
       "       '7236 Apache Lane', '3846 4th Hwy', '5028 Maple Ridge',\n",
       "       '7426 Rock Drive', '5771 Best St', '9818 Cherokee Ave',\n",
       "       '7819 2nd Ave', '1331 Elm Ridge', '9240 Britain Ave',\n",
       "       '6668 Andromedia Ridge', '5276 2nd Lane', '2889 Weaver St',\n",
       "       '1879 4th Lane', '5499 Elm Hwy', '8822 Sky St', '4254 Best Ridge',\n",
       "       '5812 Weaver Ave', '7155 Apache Drive', '1376 Pine St',\n",
       "       '3340 3rd Hwy', '3097 4th Drive', '1916 Elm St',\n",
       "       '8917 Cherokee Lane', '8492 Weaver Hwy', '3753 Francis Lane',\n",
       "       '4545 4th Ridge', '2272 Embaracadero Drive', '5341 5th Ave',\n",
       "       '7745 Washington Ridge', '1275 4th Ridge', '4857 Weaver St',\n",
       "       '8211 Sky Hwy', '8617 Best Ave', '9856 Apache St', '1951 Best Ave',\n",
       "       '1824 5th Lane', '7393 Washington St', '1386 Britain St',\n",
       "       '7928 Maple Ridge', '1546 Cherokee Ave', '2003 2nd Hwy',\n",
       "       '9418 5th Hwy', '8770 1st Lane', '1087 Flute Drive',\n",
       "       '2217 Tree Lane', '6741 Oak Ridge', '2123 MLK Ridge',\n",
       "       '4390 4th Drive', '1437 3rd Lane', '1186 Rock St', '4394 Oak St',\n",
       "       '8368 Cherokee Ave', '4905 Best Lane', '3618 Sky Ave',\n",
       "       '5459 MLK Ave', '1371 Texas Lane', '2654 Embaracadero St',\n",
       "       '2123 Texas Ave', '4538 Flute Hwy', '4434 Weaver St',\n",
       "       '2798 1st Ave', '2809 Francis Lane', '7281 Oak St',\n",
       "       '9878 Washington Ave', '2537 5th Ave', '8493 Apache Drive',\n",
       "       '2878 Britain Hwy', '2862 Tree Ridge', '4453 Best Ave',\n",
       "       '5191 4th St', '1364 Best St', '8946 2nd Drive', '3726 MLK Hwy',\n",
       "       '2820 Britain St', '2646 MLK Drive', '6256 Elm St',\n",
       "       '9724 Maple St', '7397 4th Drive', '3488 Flute Lane',\n",
       "       '9082 3rd Lane', '1941 5th Ridge', '5333 MLK Lane', '4577 Sky Hwy',\n",
       "       '4814 Lincoln Lane', '2381 1st Hwy', '6939 3rd Hwy',\n",
       "       '5269 Flute Hwy', '7197 2nd Drive', '1741 Best Ridge',\n",
       "       '9148 4th Hwy', '4279 Solo Drive', '9177 Texas Ave',\n",
       "       '5969 Francis St', '9942 Tree Ave', '5474 Weaver Hwy',\n",
       "       '1102 Apache Hwy', '9214 Texas Drive', '8991 Texas Hwy',\n",
       "       '9580 MLK Ave', '5868 Best Drive', '5318 5th Ave',\n",
       "       '7502 Rock Lane', '4627 Elm Ridge', '5584 Britain Lane',\n",
       "       '7002 Oak Hwy', '4780 Best Drive', '8995 1st Ave', '5586 2nd St',\n",
       "       '1589 Best Ave', '1880 Weaver Drive', '7295 Tree Hwy',\n",
       "       '8832 Pine Drive', '1620 Oak Ave', '3847 Elm Hwy',\n",
       "       '3177 MLK Ridge', '3929 Oak Drive', '1469 Lincoln Drive',\n",
       "       '9719 4th Lane', '3196 Cherokee St', '8492 Andromedia Ridge',\n",
       "       '1353 Washington St', '6731 Andromedia Hwy', '5769 Texas Lane',\n",
       "       '2849 Pine Drive', '2577 Texas Ridge', '3841 Washington Lane',\n",
       "       '8125 Texas Ridge', '4826 5th St', '1578 5th Lane',\n",
       "       '6440 Rock Lane', '5806 Embaracadero St', '1472 4th Drive',\n",
       "       '5839 Weaver Lane', '7630 Rock Drive', '7144 Andromedia St',\n",
       "       '9988 Rock Ridge', '7544 Washington Ave', '7201 Washington Ave',\n",
       "       '8805 Cherokee Drive', '3275 Pine St', '7785 Lincoln Lane',\n",
       "       '4994 Lincoln Drive', '1298 Maple Hwy', '2644 MLK Drive',\n",
       "       '5630 1st Drive', '6137 MLK St', '5383 Maple Drive',\n",
       "       '4460 4th Lane', '8524 Pine Lane', '8456 1st Ave',\n",
       "       '3639 Flute Hwy', '7900 Sky Hwy', '7835 Cherokee Hwy',\n",
       "       '1030 Pine Lane', '9278 Francis Ridge', '6604 Apache Drive',\n",
       "       '2311 4th St', '9523 Solo Hwy', '3171 Andromedia Lane',\n",
       "       '2492 Lincoln Lane', '4477 5th Ave', '6724 Andromedia St',\n",
       "       '7495 Washington Ave', '4291 Sky Hwy', '5650 Rock Ave',\n",
       "       '6888 Elm Ridge', '2352 Sky Drive', '5280 Pine Ave',\n",
       "       '6638 Tree Drive', '5678 Lincoln Drive', '4496 Pine Lane',\n",
       "       '8845 5th Ave', '9317 Apache Ave', '8638 3rd Ave',\n",
       "       '3061 Francis Hwy', '1173 Andromedia Ave', '6068 2nd St',\n",
       "       '7937 Weaver Ridge', '2823 Weaver Lane', '1809 Sky St',\n",
       "       '9352 Washington Ave', '2697 Oak Drive', '1110 4th Drive',\n",
       "       '7535 5th Lane', '9043 Maple Hwy', '3777 Maple Ave',\n",
       "       '5608 Solo St', '6981 Weaver St', '4369 Maple Lane', '6931 Elm St',\n",
       "       '7583 Washington Ave', '7552 3rd St', '1654 Pine St',\n",
       "       '6058 Andromedia Hwy', '6536 MLK Hwy', '8198 Embaracadero Lane',\n",
       "       '3447 Solo Ave', '1806 Weaver Ridge', '7930 Texas Ave',\n",
       "       '7082 Oak Ridge', '6357 Texas Lane', '9322 Rock Hwy',\n",
       "       '6684 Solo Lane', '4885 Oak Lane', '7846 Andromedia Drive',\n",
       "       '3915 Embaracadero St', '4242 Rock Lane', '7405 Oak St',\n",
       "       '9633 4th St', '3492 Britain St', '7973 4th St',\n",
       "       '3952 Andromedia Lane', '6702 Andromedia St', '5455 Oak Hwy',\n",
       "       '2253 Maple Ave', '7897 Lincoln St', '8811 Maple Hwy',\n",
       "       '8167 Apache Ave', '5475 Rock Lane', '8215 Flute Drive',\n",
       "       '1320 Flute Lane', '1229 5th Ave', '3884 Pine Lane',\n",
       "       '7108 Tree St', '8014 Embaracadero Drive', '4937 Flute Drive',\n",
       "       '2889 Francis St', '7504 Flute Drive', '7570 Cherokee Drive',\n",
       "       '4710 Lincoln Hwy', '7511 1st Ave', '7042 Maple Ridge',\n",
       "       '4475 Lincoln Ridge', '9439 MLK St', '8269 Sky Hwy',\n",
       "       '5663 Oak Lane', '4633 5th Lane', '9682 Cherokee Ridge',\n",
       "       '4755 1st St', '5312 Francis Ridge', '1705 Weaver St',\n",
       "       '1643 Washington Hwy', '6516 Solo Drive', '6045 Andromedia St',\n",
       "       '3092 Texas Drive', '7629 5th St', '6128 Elm Lane',\n",
       "       '1416 Cherokee Ridge'], dtype=object)"
      ]
     },
     "execution_count": 149,
     "metadata": {},
     "output_type": "execute_result"
    }
   ],
   "source": [
    "df['incident_location'].unique()"
   ]
  },
  {
   "cell_type": "code",
   "execution_count": 150,
   "metadata": {},
   "outputs": [
    {
     "data": {
      "text/plain": [
       "array(['17-10-2014', '27-06-2006', '06-09-2000', '25-05-1990',\n",
       "       '06-06-2014', '12-10-2006', '04-06-2000', '03-02-1990',\n",
       "       '05-02-1997', '25-07-2011', '26-05-2002', '29-05-1999',\n",
       "       '20-11-1997', '26-10-2012', '28-12-1998', '19-10-1992',\n",
       "       '08-06-2005', '15-11-2004', '28-12-2014', '02-08-1992',\n",
       "       '25-06-2002', '27-11-2005', '27-05-1994', '08-02-1991',\n",
       "       '02-02-1996', '05-12-2013', '20-09-1990', '18-07-2002',\n",
       "       '08-02-1990', '04-03-2014', '18-02-2000', '19-06-2008',\n",
       "       '01-08-2003', '04-04-1992', '13-01-1991', '08-08-2010',\n",
       "       '09-03-2003', '03-02-1993', '25-11-2002', '27-07-1997',\n",
       "       '08-05-1995', '30-08-2012', '30-04-2006', '13-04-2003',\n",
       "       '05-12-2007', '21-08-2006', '08-01-1990', '18-03-1990',\n",
       "       '07-01-2008', '10-03-1997', '10-01-2004', '20-08-1994',\n",
       "       '02-06-2002', '28-04-1994', '17-08-2014', '11-08-2007',\n",
       "       '20-11-2008', '18-10-1995', '19-05-1993', '26-02-2005',\n",
       "       '14-02-1990', '30-09-1993', '10-06-2014', '28-10-2008',\n",
       "       '24-04-2007', '13-12-1993', '17-08-2011', '20-08-1990',\n",
       "       '11-02-1994', '22-02-1994', '15-08-2011', '11-11-1998',\n",
       "       '04-12-1995', '28-12-2002', '15-04-2004', '02-02-2001',\n",
       "       '12-01-2010', '14-04-1992', '21-05-2010', '27-10-2013',\n",
       "       '12-10-1994', '04-07-1997', '15-02-2011', '21-08-1994',\n",
       "       '15-05-1997', '26-10-1996', '04-03-2006', '02-01-1991',\n",
       "       '15-08-1999', '15-01-1992', '07-12-1999', '06-06-1993',\n",
       "       '03-10-2000', '29-12-2010', '17-03-1990', '01-03-2012',\n",
       "       '05-02-2006', '01-11-2014', '17-06-2009', '20-09-1999',\n",
       "       '19-10-1990', '05-08-1996', '06-06-2001', '25-03-2007',\n",
       "       '31-10-2013', '13-06-1992', '07-10-1990', '28-12-1991',\n",
       "       '26-06-2009', '11-01-2009', '18-03-2003', '02-11-2012',\n",
       "       '04-05-2000', '29-09-1999', '09-03-1999', '13-02-1991',\n",
       "       '05-08-1993', '31-10-1997', '21-04-2001', '08-01-2013',\n",
       "       '23-07-2009', '20-02-1998', '13-03-2008', '20-08-1996',\n",
       "       '27-07-2014', '09-11-1992', '04-06-2012', '13-05-2001',\n",
       "       '17-09-2011', '15-07-2011', '27-07-2005', '18-10-2005',\n",
       "       '19-01-1996', '29-09-2005', '18-02-1997', '11-05-2010',\n",
       "       '06-02-2009', '09-07-2013', '06-06-1992', '08-03-1998',\n",
       "       '29-03-2004', '01-06-2006', '08-06-1994', '12-02-1998',\n",
       "       '16-11-2000', '24-10-2004', '08-11-2009', '21-09-1996',\n",
       "       '16-07-1995', '09-06-2001', '06-10-2002', '14-07-1997',\n",
       "       '11-11-1994', '23-06-2012', '18-02-2007', '27-06-2005',\n",
       "       '14-05-2006', '29-04-2010', '10-11-1992', '24-07-1999',\n",
       "       '22-02-1992', '13-09-2002', '09-08-2003', '04-12-2007',\n",
       "       '22-07-2002', '03-07-1992', '29-03-2005', '16-03-2008',\n",
       "       '23-05-1999', '22-11-2012', '29-01-1993', '11-02-2003',\n",
       "       '15-08-1990', '06-03-2010', '27-09-1990', '17-06-2005',\n",
       "       '14-09-2001', '07-01-2011', '13-09-2003', '24-10-1997',\n",
       "       '04-01-2009', '12-10-1998', '23-02-1993', '07-07-1996',\n",
       "       '23-01-2013', '06-12-2006', '23-02-2014', '16-11-2007',\n",
       "       '17-04-1999', '06-02-2006', '20-10-1993', '01-01-2006',\n",
       "       '04-04-2003', '05-07-2014', '16-01-1996', '19-04-2002',\n",
       "       '10-12-2005', '07-11-1994', '02-06-2012', '07-04-1998',\n",
       "       '25-04-2007', '30-06-2000', '04-06-1996', '09-05-2009',\n",
       "       '08-07-2001', '20-09-1993', '03-11-2009', '10-12-2014',\n",
       "       '08-01-1994', '05-08-2006', '07-02-2007', '09-04-2001',\n",
       "       '17-02-1995', '25-07-1995', '24-03-2006', '28-03-1995',\n",
       "       '19-06-1996', '16-06-1993', '11-07-2001', '22-11-2008',\n",
       "       '19-05-1990', '26-08-2013', '12-10-1997', '21-01-2002',\n",
       "       '02-09-1996', '28-01-2010', '03-10-2014', '02-05-2007',\n",
       "       '22-09-1990', '19-09-2004', '28-08-1995', '04-02-2004',\n",
       "       '23-07-2014', '21-03-1997', '06-05-1991', '07-08-1992',\n",
       "       '03-09-2013', '05-01-2012', '27-01-2007', '14-10-2005',\n",
       "       '03-11-1990', '15-10-2005', '22-05-1999', '21-12-2002',\n",
       "       '10-02-2007', '01-03-2002', '21-04-2003', '22-09-2002',\n",
       "       '10-02-1998', '01-09-1992', '01-05-1999', '19-12-1997',\n",
       "       '18-06-2000', '24-04-1995', '16-06-2006', '28-09-2007',\n",
       "       '21-11-1991', '16-05-2001', '11-08-1999', '16-06-2003',\n",
       "       '30-03-1999', '03-02-1999', '25-08-2011', '28-06-2010',\n",
       "       '06-11-2001', '15-04-2013', '07-12-1995', '01-11-1991',\n",
       "       '19-05-2014', '15-03-1992', '03-02-2006', '16-03-2003',\n",
       "       '16-10-2002', '27-01-1990', '11-03-2010', '19-09-1995',\n",
       "       '27-02-2010', '30-04-2002', '28-04-2007', '08-07-1996',\n",
       "       '01-04-2002', '29-10-2006', '25-10-2007', '28-03-2001',\n",
       "       '04-05-1995', '28-09-2011', '28-01-2003', '01-02-2011',\n",
       "       '09-02-1993', '05-08-2005', '17-06-2006', '07-12-1993',\n",
       "       '14-03-2012', '05-08-1997', '05-07-2009', '25-11-1994',\n",
       "       '03-02-1997', '09-10-2009', '20-11-2002', '29-05-1995',\n",
       "       '22-01-2011', '18-10-2012', '13-10-1991', '01-10-2010',\n",
       "       '10-04-2013', '11-06-2008', '04-12-2013', '21-08-2010',\n",
       "       '18-06-2010', '10-04-1992', '06-12-1991', '29-10-1993',\n",
       "       '03-11-1991', '09-07-2002', '01-07-2005', '04-11-1991',\n",
       "       '14-04-1993', '23-08-2009', '18-06-1993', '17-07-2012',\n",
       "       '25-01-1999', '23-02-1990', '30-08-2000', '03-09-2008',\n",
       "       '02-08-1991', '25-09-2001', '11-03-2007', '20-11-2010',\n",
       "       '28-08-1998', '16-07-2002', '29-04-1990', '01-02-1998',\n",
       "       '20-07-2008', '13-11-1998', '24-05-2001', '03-06-2014',\n",
       "       '22-08-1991', '12-12-1998', '18-02-1999', '30-10-1997',\n",
       "       '29-11-1999', '07-07-2013', '05-07-2003', '21-09-2005',\n",
       "       '18-02-1995', '07-04-1999', '13-12-2014', '01-06-1997',\n",
       "       '13-07-2013', '30-12-2002', '28-02-1997', '18-06-1998',\n",
       "       '08-02-1996', '17-11-2004', '25-10-2012', '13-04-2006',\n",
       "       '21-02-2006', '17-12-2003', '31-07-1999', '05-08-2014',\n",
       "       '05-06-2011', '11-10-1992', '17-02-2010', '06-05-2007',\n",
       "       '01-05-1997', '28-01-1998', '05-05-1993', '06-08-1994',\n",
       "       '14-11-2014', '14-12-1991', '21-10-2009', '29-09-1997',\n",
       "       '31-12-2003', '01-01-2008', '31-05-2004', '18-12-2013',\n",
       "       '24-08-2000', '14-10-1992', '16-11-1991', '08-10-1995',\n",
       "       '28-10-2007', '16-05-2008', '22-06-2009', '10-05-2012',\n",
       "       '02-10-2003', '02-08-1990', '16-09-1997', '29-07-1995',\n",
       "       '06-09-2005', '05-08-1992', '22-01-1993', '20-05-1995',\n",
       "       '24-09-1992', '20-07-2007', '28-04-1992', '19-01-1998',\n",
       "       '08-09-2009', '18-12-1994', '23-08-1996', '20-11-1991',\n",
       "       '28-10-1998', '09-04-2003', '04-02-1992', '29-06-2006',\n",
       "       '21-06-1997', '07-09-2006', '01-10-2001', '20-02-2009',\n",
       "       '26-06-2001', '18-01-1997', '24-06-2014', '02-10-1992',\n",
       "       '09-10-2012', '10-02-1993', '28-09-1994', '24-05-2003',\n",
       "       '25-12-1991', '18-09-1999', '03-02-1994', '18-01-2003',\n",
       "       '07-03-2005', '23-08-2003', '11-07-2002', '19-03-2014',\n",
       "       '06-12-1993', '29-08-1999', '09-03-2007', '03-01-2004',\n",
       "       '25-04-1991', '14-03-1995', '09-12-2005', '25-12-2001',\n",
       "       '14-11-1999', '27-10-2001', '31-10-1993', '13-02-2003',\n",
       "       '06-03-2004', '12-07-2013', '27-08-2014', '22-06-1990',\n",
       "       '07-03-2008', '03-09-1991', '02-09-2011', '06-10-2012',\n",
       "       '18-01-2014', '22-03-1992', '03-12-2012', '18-10-1996',\n",
       "       '02-10-1997', '18-03-2008', '29-08-2010', '31-03-2005',\n",
       "       '25-12-2013', '11-03-2014', '04-08-1997', '14-11-2007',\n",
       "       '30-07-1992', '01-12-2000', '10-09-2002', '07-11-1997',\n",
       "       '18-05-1993', '11-07-1996', '17-12-1995', '12-04-2013',\n",
       "       '13-11-1995', '04-11-2004', '21-03-1998', '22-07-1999',\n",
       "       '28-02-2010', '30-01-2005', '29-11-2001', '24-12-2012',\n",
       "       '11-05-1997', '26-01-1994', '04-11-2010', '19-06-1992',\n",
       "       '02-06-2010', '12-10-2002', '25-02-2008', '05-09-1996',\n",
       "       '16-03-1998', '22-04-2010', '25-01-2008', '10-09-2000',\n",
       "       '23-04-2008', '18-02-2011', '24-04-2012', '24-05-2006',\n",
       "       '30-01-1992', '24-01-2009', '29-08-1995', '31-07-2011',\n",
       "       '05-01-2013', '18-11-1994', '30-08-2014', '10-09-1998',\n",
       "       '04-01-2003', '24-05-2004', '12-09-1994', '07-07-1997',\n",
       "       '01-03-1991', '29-09-2001', '10-01-2012', '05-07-2001',\n",
       "       '07-08-1991', '24-07-2012', '08-08-1994', '09-12-2001',\n",
       "       '14-03-1990', '28-03-2006', '23-12-2013', '30-09-1991',\n",
       "       '27-12-2001', '07-04-2005', '08-04-2003', '14-11-2005',\n",
       "       '07-01-2005', '14-02-1994', '23-01-1996', '12-12-1999',\n",
       "       '15-07-2004', '07-11-2012', '29-06-2009', '26-06-2000',\n",
       "       '09-01-2002', '11-11-2013', '14-01-2008', '04-03-2003',\n",
       "       '07-06-1994', '04-07-2013', '30-06-2002', '30-06-2004',\n",
       "       '19-12-1998', '31-08-2014', '10-11-2005', '26-11-2001',\n",
       "       '06-05-2014', '27-01-1991', '04-03-2000', '12-10-1995',\n",
       "       '25-04-2014', '26-01-2011', '26-01-1996', '08-04-1991',\n",
       "       '29-06-2002', '09-04-1999', '19-04-2009', '28-11-1991',\n",
       "       '27-04-2012', '04-03-2007', '31-12-2012', '21-12-2013',\n",
       "       '28-04-2005', '17-09-1994', '16-08-2003', '02-09-2014',\n",
       "       '12-12-2011', '17-08-1991', '29-02-2004', '22-02-2015',\n",
       "       '13-10-1990', '25-11-1991', '02-10-1990', '17-02-2009',\n",
       "       '17-07-2005', '12-03-1994', '03-08-1994', '25-08-2012',\n",
       "       '02-12-2011', '25-02-2005', '20-04-2004', '17-11-2009',\n",
       "       '19-09-2009', '12-09-2001', '27-11-1992', '07-12-1998',\n",
       "       '25-08-1990', '22-10-2011', '01-02-1990', '27-11-1990',\n",
       "       '16-07-2004', '10-12-1993', '08-03-1995', '03-08-2009',\n",
       "       '03-11-1996', '09-08-2004', '20-07-1991', '14-01-2005',\n",
       "       '16-12-2011', '09-10-1990', '27-02-1994', '21-04-2014',\n",
       "       '11-02-2010', '05-10-1991', '23-07-1992', '10-10-1993',\n",
       "       '14-11-2010', '03-03-1997', '01-03-1997', '18-08-1990',\n",
       "       '28-05-2014', '22-07-2004', '02-08-2009', '05-07-2007',\n",
       "       '24-01-2010', '15-05-2000', '21-03-2008', '07-05-1990',\n",
       "       '05-02-1991', '19-03-1992', '24-04-2013', '10-04-2009',\n",
       "       '01-12-2008', '05-07-2000', '11-06-2014', '23-04-1995',\n",
       "       '16-09-1990', '11-12-1998', '09-10-1995', '21-12-1999',\n",
       "       '28-07-2002', '03-08-1993', '16-12-2007', '10-02-2008',\n",
       "       '01-10-2006', '29-05-2003', '06-05-2002', '28-02-2004',\n",
       "       '14-01-1999', '23-01-2002', '09-12-1992', '24-06-1998',\n",
       "       '06-01-2011', '24-02-2012', '25-06-2011', '21-11-2006',\n",
       "       '27-06-2008', '30-08-1993', '21-04-2008', '23-06-2000',\n",
       "       '11-01-2010', '28-03-1990', '29-01-1998', '05-12-2014',\n",
       "       '27-05-2002', '09-08-2002', '02-12-2012', '22-03-2000',\n",
       "       '13-04-2002', '17-06-2008', '07-04-1994', '29-02-1992',\n",
       "       '11-05-1996', '03-04-2013', '12-11-2009', '05-11-2008',\n",
       "       '15-02-1993', '21-07-2008', '11-09-2010', '22-12-1995',\n",
       "       '26-09-1991', '15-07-1990', '10-05-2009', '28-10-1999',\n",
       "       '30-03-1995', '31-01-2011', '21-04-2006', '10-03-2004',\n",
       "       '05-01-1991', '15-10-1996', '21-06-1994', '13-06-1994',\n",
       "       '27-05-2003', '06-07-1996', '08-05-2005', '02-11-2010',\n",
       "       '29-07-2012', '06-06-2002', '19-09-1991', '24-06-2009',\n",
       "       '29-05-1992', '12-08-2004', '24-12-2006', '24-07-2007',\n",
       "       '17-08-1994', '10-04-1996', '11-12-1992', '01-08-2010',\n",
       "       '23-03-2009', '29-07-1996', '23-08-1994', '05-01-1992',\n",
       "       '11-09-1997', '10-02-2002', '28-01-1993', '23-10-1996',\n",
       "       '21-04-1997', '09-11-2008', '20-06-2002', '21-10-2005',\n",
       "       '28-08-2005', '16-01-2013', '10-10-2005', '08-02-2009',\n",
       "       '06-03-2005', '17-05-1994', '20-07-1990', '17-04-2005',\n",
       "       '10-02-1994', '29-03-1995', '30-04-2007', '15-02-2001',\n",
       "       '09-07-2001', '06-09-2008', '19-12-2004', '15-11-2000',\n",
       "       '14-03-2007', '28-12-2004', '05-07-1999', '15-11-1997',\n",
       "       '27-09-2010', '18-08-2007', '09-08-1993', '02-04-1991',\n",
       "       '15-03-2007', '01-05-2010', '24-06-2003', '08-07-1990',\n",
       "       '24-09-1994', '20-06-2012', '19-04-2006', '07-12-2001',\n",
       "       '25-11-2006', '06-12-1996', '10-07-2012', '07-04-2014',\n",
       "       '11-10-2003', '17-01-2015', '07-12-1992', '29-11-2004',\n",
       "       '02-01-2004', '25-01-2006', '18-04-1993', '09-12-2006',\n",
       "       '30-08-1997', '03-06-1991', '06-09-1995', '09-02-2000',\n",
       "       '23-07-1996', '30-12-2011', '21-07-1996', '08-04-1996',\n",
       "       '04-03-2001', '19-10-2001', '18-08-2006', '28-04-2013',\n",
       "       '29-11-2009', '15-02-1990', '12-04-2002', '21-02-1999',\n",
       "       '18-06-2011', '26-03-1995', '03-05-1991', '19-12-2001',\n",
       "       '05-08-2012', '20-01-2014', '19-12-2011', '28-07-2008',\n",
       "       '05-05-1998', '16-04-1995', '14-02-1992', '11-07-2007',\n",
       "       '07-04-2010', '10-03-1991', '20-01-1996', '01-03-2010',\n",
       "       '15-06-2014', '25-11-2004', '26-08-2000', '23-08-2005',\n",
       "       '09-08-1990', '28-03-2003', '23-10-2007', '27-06-1996',\n",
       "       '11-12-1994', '05-12-1995', '15-12-1996', '06-06-2011',\n",
       "       '13-12-1995', '28-10-1997', '04-01-1996', '09-05-2008',\n",
       "       '05-12-2009', '22-12-2012', '19-05-1992', '25-05-2002',\n",
       "       '21-04-2010', '26-03-1990', '12-05-2007', '02-01-2001',\n",
       "       '10-08-2006', '28-07-2014', '27-09-2011', '20-04-2013',\n",
       "       '20-03-1991', '03-12-2005', '25-05-2011', '18-10-2006',\n",
       "       '19-07-2006', '08-06-2002', '12-02-2009', '14-05-2001',\n",
       "       '16-02-2001', '18-11-1993', '18-02-1990', '21-05-2000',\n",
       "       '26-08-2012', '16-11-2004', '23-01-2003', '07-11-2008',\n",
       "       '19-10-1999', '20-12-1990', '14-02-1996', '10-06-2001',\n",
       "       '17-03-2010', '30-07-2003', '17-09-2014', '03-06-2009',\n",
       "       '11-10-1994', '18-07-1991', '24-09-2001', '19-09-2012',\n",
       "       '11-07-1991', '29-10-1991', '28-12-1999', '11-10-2012',\n",
       "       '19-08-1995', '11-02-1991', '02-07-1991', '10-04-1994',\n",
       "       '04-12-2005', '16-07-2014', '17-09-2003', '15-07-2000',\n",
       "       '29-07-2009', '13-04-1991', '20-11-2005', '20-05-1990',\n",
       "       '28-11-2002', '15-06-2004', '26-09-2010', '15-09-1990',\n",
       "       '16-09-2009', '12-08-1999', '08-03-2009', '27-04-2009',\n",
       "       '02-08-2006', '06-12-1995', '13-11-2002', '09-11-1991',\n",
       "       '14-01-1998', '25-04-2002', '13-08-2004', '24-06-1990',\n",
       "       '21-08-1991', '25-02-2011', '04-02-2013', '20-02-2001',\n",
       "       '03-03-1992', '21-12-2006', '14-07-2000', '12-12-1991',\n",
       "       '01-07-2013', '16-12-1998', '03-01-2015', '01-04-1994',\n",
       "       '15-08-2000', '13-11-2014', '04-02-2011', '21-01-2009',\n",
       "       '07-11-1992', '20-03-1992', '17-07-1995', '27-12-2000',\n",
       "       '06-08-1999', '03-03-2007', '25-12-1997', '06-11-2013',\n",
       "       '21-09-1990', '05-10-1999', '07-04-1992', '05-03-2009',\n",
       "       '10-02-1997', '28-01-1992', '16-09-2013', '04-01-2002',\n",
       "       '02-04-2002', '16-07-1998', '15-08-2002', '07-09-1999',\n",
       "       '12-01-2012', '18-08-1996', '11-03-1996', '23-11-1997',\n",
       "       '08-08-2013', '30-11-1996', '18-06-1997', '19-04-2007',\n",
       "       '19-09-2007', '21-12-1996', '03-02-2008', '16-07-2003',\n",
       "       '05-05-1991', '16-06-1991', '03-04-2001', '16-03-2014',\n",
       "       '03-08-2010', '25-11-2009', '08-05-2001', '14-06-2004',\n",
       "       '07-08-1994', '26-08-2004', '05-11-2000', '03-10-1994',\n",
       "       '11-04-2005', '16-05-1990', '11-09-2004', '30-11-1993',\n",
       "       '06-03-2003', '18-12-1996', '21-02-1995', '11-12-2009',\n",
       "       '18-10-2000', '09-02-2007', '28-10-2006', '27-01-2000',\n",
       "       '05-04-2002', '30-04-2013', '01-05-2013', '09-01-1999',\n",
       "       '04-07-2007', '05-02-1994', '12-07-2006', '24-10-2007',\n",
       "       '08-12-2001', '24-03-2007', '16-07-1991', '05-01-2014',\n",
       "       '17-02-2003', '18-11-2011', '11-11-1996'], dtype=object)"
      ]
     },
     "execution_count": 150,
     "metadata": {},
     "output_type": "execute_result"
    }
   ],
   "source": [
    "df['policy_bind_date'].unique()"
   ]
  },
  {
   "cell_type": "code",
   "execution_count": 151,
   "metadata": {},
   "outputs": [
    {
     "data": {
      "text/plain": [
       "array(['25-01-2015', '21-01-2015', '22-02-2015', '10-01-2015',\n",
       "       '17-02-2015', '02-01-2015', '13-01-2015', '27-02-2015',\n",
       "       '30-01-2015', '05-01-2015', '06-01-2015', '15-02-2015',\n",
       "       '22-01-2015', '08-01-2015', '15-01-2015', '29-01-2015',\n",
       "       '19-01-2015', '01-01-2015', '10-02-2015', '11-01-2015',\n",
       "       '24-02-2015', '09-01-2015', '28-01-2015', '07-01-2015',\n",
       "       '18-01-2015', '28-02-2015', '12-02-2015', '24-01-2015',\n",
       "       '03-01-2015', '16-01-2015', '14-02-2015', '21-02-2015',\n",
       "       '18-02-2015', '26-02-2015', '17-01-2015', '27-01-2015',\n",
       "       '11-02-2015', '12-01-2015', '06-02-2015', '20-01-2015',\n",
       "       '02-02-2015', '20-02-2015', '08-02-2015', '23-02-2015',\n",
       "       '01-03-2015', '14-01-2015', '19-02-2015', '09-02-2015',\n",
       "       '26-01-2015', '23-01-2015', '31-01-2015', '03-02-2015',\n",
       "       '01-02-2015', '05-02-2015', '25-02-2015', '16-02-2015',\n",
       "       '13-02-2015', '04-02-2015', '07-02-2015', '04-01-2015'],\n",
       "      dtype=object)"
      ]
     },
     "execution_count": 151,
     "metadata": {},
     "output_type": "execute_result"
    }
   ],
   "source": [
    "df['incident_date'].unique()"
   ]
  },
  {
   "cell_type": "code",
   "execution_count": 152,
   "metadata": {},
   "outputs": [
    {
     "data": {
      "text/plain": [
       "array(['92x', 'E400', 'RAM', 'Tahoe', 'RSX', '95', 'Pathfinder', 'A5',\n",
       "       'Camry', 'F150', 'A3', 'Highlander', 'Neon', 'MDX', 'Maxima',\n",
       "       'Legacy', 'TL', 'Impreza', 'Forrestor', 'Escape', 'Corolla',\n",
       "       '3 Series', 'C300', 'Wrangler', 'M5', 'X5', 'Civic', 'Passat',\n",
       "       'Silverado', 'CRV', '93', 'Accord', 'X6', 'Malibu', 'Fusion',\n",
       "       'Jetta', 'ML350', 'Ultima', 'Grand Cherokee'], dtype=object)"
      ]
     },
     "execution_count": 152,
     "metadata": {},
     "output_type": "execute_result"
    }
   ],
   "source": [
    "df['auto_model'].unique()"
   ]
  },
  {
   "cell_type": "code",
   "execution_count": 153,
   "metadata": {},
   "outputs": [
    {
     "data": {
      "text/plain": [
       "array(['craft-repair', 'machine-op-inspct', 'sales', 'armed-forces',\n",
       "       'tech-support', 'prof-specialty', 'other-service',\n",
       "       'priv-house-serv', 'exec-managerial', 'protective-serv',\n",
       "       'transport-moving', 'handlers-cleaners', 'adm-clerical',\n",
       "       'farming-fishing'], dtype=object)"
      ]
     },
     "execution_count": 153,
     "metadata": {},
     "output_type": "execute_result"
    }
   ],
   "source": [
    "df['insured_occupation'].unique()"
   ]
  },
  {
   "cell_type": "code",
   "execution_count": 154,
   "metadata": {},
   "outputs": [],
   "source": [
    "df.drop(['incident_location','policy_bind_date','auto_model','incident_date','insured_occupation'],axis=1,inplace=True)"
   ]
  },
  {
   "cell_type": "code",
   "execution_count": 155,
   "metadata": {},
   "outputs": [
    {
     "data": {
      "text/html": [
       "<div>\n",
       "<style scoped>\n",
       "    .dataframe tbody tr th:only-of-type {\n",
       "        vertical-align: middle;\n",
       "    }\n",
       "\n",
       "    .dataframe tbody tr th {\n",
       "        vertical-align: top;\n",
       "    }\n",
       "\n",
       "    .dataframe thead th {\n",
       "        text-align: right;\n",
       "    }\n",
       "</style>\n",
       "<table border=\"1\" class=\"dataframe\">\n",
       "  <thead>\n",
       "    <tr style=\"text-align: right;\">\n",
       "      <th></th>\n",
       "      <th>months_as_customer</th>\n",
       "      <th>age</th>\n",
       "      <th>policy_state</th>\n",
       "      <th>policy_csl</th>\n",
       "      <th>policy_deductable</th>\n",
       "      <th>policy_annual_premium</th>\n",
       "      <th>umbrella_limit</th>\n",
       "      <th>insured_zip</th>\n",
       "      <th>insured_sex</th>\n",
       "      <th>insured_education_level</th>\n",
       "      <th>...</th>\n",
       "      <th>bodily_injuries</th>\n",
       "      <th>witnesses</th>\n",
       "      <th>police_report_available</th>\n",
       "      <th>total_claim_amount</th>\n",
       "      <th>injury_claim</th>\n",
       "      <th>property_claim</th>\n",
       "      <th>vehicle_claim</th>\n",
       "      <th>auto_make</th>\n",
       "      <th>auto_year</th>\n",
       "      <th>fraud_reported</th>\n",
       "    </tr>\n",
       "  </thead>\n",
       "  <tbody>\n",
       "    <tr>\n",
       "      <th>0</th>\n",
       "      <td>328</td>\n",
       "      <td>48</td>\n",
       "      <td>OH</td>\n",
       "      <td>250/500</td>\n",
       "      <td>1000</td>\n",
       "      <td>1406.91</td>\n",
       "      <td>0</td>\n",
       "      <td>466132</td>\n",
       "      <td>1</td>\n",
       "      <td>MD</td>\n",
       "      <td>...</td>\n",
       "      <td>1</td>\n",
       "      <td>2</td>\n",
       "      <td>YES</td>\n",
       "      <td>71610</td>\n",
       "      <td>6510</td>\n",
       "      <td>13020</td>\n",
       "      <td>52080</td>\n",
       "      <td>Saab</td>\n",
       "      <td>2004</td>\n",
       "      <td>1</td>\n",
       "    </tr>\n",
       "    <tr>\n",
       "      <th>1</th>\n",
       "      <td>228</td>\n",
       "      <td>42</td>\n",
       "      <td>IN</td>\n",
       "      <td>250/500</td>\n",
       "      <td>2000</td>\n",
       "      <td>1197.22</td>\n",
       "      <td>5000000</td>\n",
       "      <td>468176</td>\n",
       "      <td>1</td>\n",
       "      <td>MD</td>\n",
       "      <td>...</td>\n",
       "      <td>0</td>\n",
       "      <td>0</td>\n",
       "      <td>?</td>\n",
       "      <td>5070</td>\n",
       "      <td>780</td>\n",
       "      <td>780</td>\n",
       "      <td>3510</td>\n",
       "      <td>Mercedes</td>\n",
       "      <td>2007</td>\n",
       "      <td>1</td>\n",
       "    </tr>\n",
       "    <tr>\n",
       "      <th>2</th>\n",
       "      <td>134</td>\n",
       "      <td>29</td>\n",
       "      <td>OH</td>\n",
       "      <td>100/300</td>\n",
       "      <td>2000</td>\n",
       "      <td>1413.14</td>\n",
       "      <td>5000000</td>\n",
       "      <td>430632</td>\n",
       "      <td>0</td>\n",
       "      <td>PhD</td>\n",
       "      <td>...</td>\n",
       "      <td>2</td>\n",
       "      <td>3</td>\n",
       "      <td>NO</td>\n",
       "      <td>34650</td>\n",
       "      <td>7700</td>\n",
       "      <td>3850</td>\n",
       "      <td>23100</td>\n",
       "      <td>Dodge</td>\n",
       "      <td>2007</td>\n",
       "      <td>0</td>\n",
       "    </tr>\n",
       "    <tr>\n",
       "      <th>3</th>\n",
       "      <td>256</td>\n",
       "      <td>41</td>\n",
       "      <td>IL</td>\n",
       "      <td>250/500</td>\n",
       "      <td>2000</td>\n",
       "      <td>1415.74</td>\n",
       "      <td>6000000</td>\n",
       "      <td>608117</td>\n",
       "      <td>0</td>\n",
       "      <td>PhD</td>\n",
       "      <td>...</td>\n",
       "      <td>1</td>\n",
       "      <td>2</td>\n",
       "      <td>NO</td>\n",
       "      <td>63400</td>\n",
       "      <td>6340</td>\n",
       "      <td>6340</td>\n",
       "      <td>50720</td>\n",
       "      <td>Chevrolet</td>\n",
       "      <td>2014</td>\n",
       "      <td>1</td>\n",
       "    </tr>\n",
       "    <tr>\n",
       "      <th>4</th>\n",
       "      <td>228</td>\n",
       "      <td>44</td>\n",
       "      <td>IL</td>\n",
       "      <td>500/1000</td>\n",
       "      <td>1000</td>\n",
       "      <td>1583.91</td>\n",
       "      <td>6000000</td>\n",
       "      <td>610706</td>\n",
       "      <td>1</td>\n",
       "      <td>Associate</td>\n",
       "      <td>...</td>\n",
       "      <td>0</td>\n",
       "      <td>1</td>\n",
       "      <td>NO</td>\n",
       "      <td>6500</td>\n",
       "      <td>1300</td>\n",
       "      <td>650</td>\n",
       "      <td>4550</td>\n",
       "      <td>Accura</td>\n",
       "      <td>2009</td>\n",
       "      <td>0</td>\n",
       "    </tr>\n",
       "    <tr>\n",
       "      <th>...</th>\n",
       "      <td>...</td>\n",
       "      <td>...</td>\n",
       "      <td>...</td>\n",
       "      <td>...</td>\n",
       "      <td>...</td>\n",
       "      <td>...</td>\n",
       "      <td>...</td>\n",
       "      <td>...</td>\n",
       "      <td>...</td>\n",
       "      <td>...</td>\n",
       "      <td>...</td>\n",
       "      <td>...</td>\n",
       "      <td>...</td>\n",
       "      <td>...</td>\n",
       "      <td>...</td>\n",
       "      <td>...</td>\n",
       "      <td>...</td>\n",
       "      <td>...</td>\n",
       "      <td>...</td>\n",
       "      <td>...</td>\n",
       "      <td>...</td>\n",
       "    </tr>\n",
       "    <tr>\n",
       "      <th>995</th>\n",
       "      <td>3</td>\n",
       "      <td>38</td>\n",
       "      <td>OH</td>\n",
       "      <td>500/1000</td>\n",
       "      <td>1000</td>\n",
       "      <td>1310.80</td>\n",
       "      <td>0</td>\n",
       "      <td>431289</td>\n",
       "      <td>0</td>\n",
       "      <td>Masters</td>\n",
       "      <td>...</td>\n",
       "      <td>0</td>\n",
       "      <td>1</td>\n",
       "      <td>?</td>\n",
       "      <td>87200</td>\n",
       "      <td>17440</td>\n",
       "      <td>8720</td>\n",
       "      <td>61040</td>\n",
       "      <td>Honda</td>\n",
       "      <td>2006</td>\n",
       "      <td>0</td>\n",
       "    </tr>\n",
       "    <tr>\n",
       "      <th>996</th>\n",
       "      <td>285</td>\n",
       "      <td>41</td>\n",
       "      <td>IL</td>\n",
       "      <td>100/300</td>\n",
       "      <td>1000</td>\n",
       "      <td>1436.79</td>\n",
       "      <td>0</td>\n",
       "      <td>608177</td>\n",
       "      <td>0</td>\n",
       "      <td>PhD</td>\n",
       "      <td>...</td>\n",
       "      <td>2</td>\n",
       "      <td>3</td>\n",
       "      <td>?</td>\n",
       "      <td>108480</td>\n",
       "      <td>18080</td>\n",
       "      <td>18080</td>\n",
       "      <td>72320</td>\n",
       "      <td>Volkswagen</td>\n",
       "      <td>2015</td>\n",
       "      <td>0</td>\n",
       "    </tr>\n",
       "    <tr>\n",
       "      <th>997</th>\n",
       "      <td>130</td>\n",
       "      <td>34</td>\n",
       "      <td>OH</td>\n",
       "      <td>250/500</td>\n",
       "      <td>500</td>\n",
       "      <td>1383.49</td>\n",
       "      <td>3000000</td>\n",
       "      <td>442797</td>\n",
       "      <td>0</td>\n",
       "      <td>Masters</td>\n",
       "      <td>...</td>\n",
       "      <td>2</td>\n",
       "      <td>3</td>\n",
       "      <td>YES</td>\n",
       "      <td>67500</td>\n",
       "      <td>7500</td>\n",
       "      <td>7500</td>\n",
       "      <td>52500</td>\n",
       "      <td>Suburu</td>\n",
       "      <td>1996</td>\n",
       "      <td>0</td>\n",
       "    </tr>\n",
       "    <tr>\n",
       "      <th>998</th>\n",
       "      <td>458</td>\n",
       "      <td>62</td>\n",
       "      <td>IL</td>\n",
       "      <td>500/1000</td>\n",
       "      <td>2000</td>\n",
       "      <td>1356.92</td>\n",
       "      <td>5000000</td>\n",
       "      <td>441714</td>\n",
       "      <td>1</td>\n",
       "      <td>Associate</td>\n",
       "      <td>...</td>\n",
       "      <td>0</td>\n",
       "      <td>1</td>\n",
       "      <td>YES</td>\n",
       "      <td>46980</td>\n",
       "      <td>5220</td>\n",
       "      <td>5220</td>\n",
       "      <td>36540</td>\n",
       "      <td>Audi</td>\n",
       "      <td>1998</td>\n",
       "      <td>0</td>\n",
       "    </tr>\n",
       "    <tr>\n",
       "      <th>999</th>\n",
       "      <td>456</td>\n",
       "      <td>60</td>\n",
       "      <td>OH</td>\n",
       "      <td>250/500</td>\n",
       "      <td>1000</td>\n",
       "      <td>766.19</td>\n",
       "      <td>0</td>\n",
       "      <td>612260</td>\n",
       "      <td>0</td>\n",
       "      <td>Associate</td>\n",
       "      <td>...</td>\n",
       "      <td>0</td>\n",
       "      <td>3</td>\n",
       "      <td>?</td>\n",
       "      <td>5060</td>\n",
       "      <td>460</td>\n",
       "      <td>920</td>\n",
       "      <td>3680</td>\n",
       "      <td>Mercedes</td>\n",
       "      <td>2007</td>\n",
       "      <td>0</td>\n",
       "    </tr>\n",
       "  </tbody>\n",
       "</table>\n",
       "<p>1000 rows × 33 columns</p>\n",
       "</div>"
      ],
      "text/plain": [
       "     months_as_customer  age policy_state policy_csl  policy_deductable  \\\n",
       "0                   328   48           OH    250/500               1000   \n",
       "1                   228   42           IN    250/500               2000   \n",
       "2                   134   29           OH    100/300               2000   \n",
       "3                   256   41           IL    250/500               2000   \n",
       "4                   228   44           IL   500/1000               1000   \n",
       "..                  ...  ...          ...        ...                ...   \n",
       "995                   3   38           OH   500/1000               1000   \n",
       "996                 285   41           IL    100/300               1000   \n",
       "997                 130   34           OH    250/500                500   \n",
       "998                 458   62           IL   500/1000               2000   \n",
       "999                 456   60           OH    250/500               1000   \n",
       "\n",
       "     policy_annual_premium  umbrella_limit  insured_zip  insured_sex  \\\n",
       "0                  1406.91               0       466132            1   \n",
       "1                  1197.22         5000000       468176            1   \n",
       "2                  1413.14         5000000       430632            0   \n",
       "3                  1415.74         6000000       608117            0   \n",
       "4                  1583.91         6000000       610706            1   \n",
       "..                     ...             ...          ...          ...   \n",
       "995                1310.80               0       431289            0   \n",
       "996                1436.79               0       608177            0   \n",
       "997                1383.49         3000000       442797            0   \n",
       "998                1356.92         5000000       441714            1   \n",
       "999                 766.19               0       612260            0   \n",
       "\n",
       "    insured_education_level  ... bodily_injuries witnesses  \\\n",
       "0                        MD  ...               1         2   \n",
       "1                        MD  ...               0         0   \n",
       "2                       PhD  ...               2         3   \n",
       "3                       PhD  ...               1         2   \n",
       "4                 Associate  ...               0         1   \n",
       "..                      ...  ...             ...       ...   \n",
       "995                 Masters  ...               0         1   \n",
       "996                     PhD  ...               2         3   \n",
       "997                 Masters  ...               2         3   \n",
       "998               Associate  ...               0         1   \n",
       "999               Associate  ...               0         3   \n",
       "\n",
       "     police_report_available  total_claim_amount injury_claim property_claim  \\\n",
       "0                        YES               71610         6510          13020   \n",
       "1                          ?                5070          780            780   \n",
       "2                         NO               34650         7700           3850   \n",
       "3                         NO               63400         6340           6340   \n",
       "4                         NO                6500         1300            650   \n",
       "..                       ...                 ...          ...            ...   \n",
       "995                        ?               87200        17440           8720   \n",
       "996                        ?              108480        18080          18080   \n",
       "997                      YES               67500         7500           7500   \n",
       "998                      YES               46980         5220           5220   \n",
       "999                        ?                5060          460            920   \n",
       "\n",
       "    vehicle_claim   auto_make auto_year fraud_reported  \n",
       "0           52080        Saab      2004              1  \n",
       "1            3510    Mercedes      2007              1  \n",
       "2           23100       Dodge      2007              0  \n",
       "3           50720   Chevrolet      2014              1  \n",
       "4            4550      Accura      2009              0  \n",
       "..            ...         ...       ...            ...  \n",
       "995         61040       Honda      2006              0  \n",
       "996         72320  Volkswagen      2015              0  \n",
       "997         52500      Suburu      1996              0  \n",
       "998         36540        Audi      1998              0  \n",
       "999          3680    Mercedes      2007              0  \n",
       "\n",
       "[1000 rows x 33 columns]"
      ]
     },
     "execution_count": 155,
     "metadata": {},
     "output_type": "execute_result"
    }
   ],
   "source": [
    "df"
   ]
  },
  {
   "cell_type": "code",
   "execution_count": 156,
   "metadata": {},
   "outputs": [
    {
     "name": "stdout",
     "output_type": "stream",
     "text": [
      "<class 'pandas.core.frame.DataFrame'>\n",
      "RangeIndex: 1000 entries, 0 to 999\n",
      "Data columns (total 33 columns):\n",
      " #   Column                       Non-Null Count  Dtype  \n",
      "---  ------                       --------------  -----  \n",
      " 0   months_as_customer           1000 non-null   int64  \n",
      " 1   age                          1000 non-null   int64  \n",
      " 2   policy_state                 1000 non-null   object \n",
      " 3   policy_csl                   1000 non-null   object \n",
      " 4   policy_deductable            1000 non-null   int64  \n",
      " 5   policy_annual_premium        1000 non-null   float64\n",
      " 6   umbrella_limit               1000 non-null   int64  \n",
      " 7   insured_zip                  1000 non-null   int64  \n",
      " 8   insured_sex                  1000 non-null   int32  \n",
      " 9   insured_education_level      1000 non-null   object \n",
      " 10  insured_hobbies              1000 non-null   object \n",
      " 11  insured_relationship         1000 non-null   object \n",
      " 12  capital-gains                1000 non-null   int64  \n",
      " 13  capital-loss                 1000 non-null   int64  \n",
      " 14  incident_type                1000 non-null   object \n",
      " 15  collision_type               1000 non-null   object \n",
      " 16  incident_severity            1000 non-null   object \n",
      " 17  authorities_contacted        1000 non-null   object \n",
      " 18  incident_state               1000 non-null   object \n",
      " 19  incident_city                1000 non-null   object \n",
      " 20  incident_hour_of_the_day     1000 non-null   int64  \n",
      " 21  number_of_vehicles_involved  1000 non-null   int64  \n",
      " 22  property_damage              1000 non-null   object \n",
      " 23  bodily_injuries              1000 non-null   int64  \n",
      " 24  witnesses                    1000 non-null   int64  \n",
      " 25  police_report_available      1000 non-null   object \n",
      " 26  total_claim_amount           1000 non-null   int64  \n",
      " 27  injury_claim                 1000 non-null   int64  \n",
      " 28  property_claim               1000 non-null   int64  \n",
      " 29  vehicle_claim                1000 non-null   int64  \n",
      " 30  auto_make                    1000 non-null   object \n",
      " 31  auto_year                    1000 non-null   int64  \n",
      " 32  fraud_reported               1000 non-null   int32  \n",
      "dtypes: float64(1), int32(2), int64(16), object(14)\n",
      "memory usage: 250.1+ KB\n"
     ]
    }
   ],
   "source": [
    "df.info()"
   ]
  },
  {
   "cell_type": "code",
   "execution_count": 157,
   "metadata": {},
   "outputs": [],
   "source": [
    "y=df['fraud_reported']"
   ]
  },
  {
   "cell_type": "code",
   "execution_count": 158,
   "metadata": {},
   "outputs": [],
   "source": [
    "df['policy_state']=le.fit_transform(df['policy_state'])"
   ]
  },
  {
   "cell_type": "code",
   "execution_count": 159,
   "metadata": {},
   "outputs": [],
   "source": [
    "df['policy_csl']=le.fit_transform(df['policy_csl'])"
   ]
  },
  {
   "cell_type": "code",
   "execution_count": 160,
   "metadata": {},
   "outputs": [],
   "source": [
    "df['insured_education_level']=le.fit_transform(df['insured_education_level'])"
   ]
  },
  {
   "cell_type": "code",
   "execution_count": 161,
   "metadata": {},
   "outputs": [],
   "source": [
    "df['insured_hobbies']=le.fit_transform(df['insured_hobbies'])"
   ]
  },
  {
   "cell_type": "code",
   "execution_count": 162,
   "metadata": {},
   "outputs": [],
   "source": [
    "df['insured_relationship']=le.fit_transform(df['insured_relationship'])"
   ]
  },
  {
   "cell_type": "code",
   "execution_count": 163,
   "metadata": {},
   "outputs": [],
   "source": [
    "df['incident_type']=le.fit_transform(df['incident_type'])"
   ]
  },
  {
   "cell_type": "code",
   "execution_count": 164,
   "metadata": {},
   "outputs": [],
   "source": [
    "df['collision_type']=le.fit_transform(df['collision_type'])"
   ]
  },
  {
   "cell_type": "code",
   "execution_count": 165,
   "metadata": {},
   "outputs": [],
   "source": [
    "df['incident_severity']=le.fit_transform(df['incident_severity'])"
   ]
  },
  {
   "cell_type": "code",
   "execution_count": 166,
   "metadata": {},
   "outputs": [],
   "source": [
    "df['authorities_contacted']=le.fit_transform(df['authorities_contacted'])"
   ]
  },
  {
   "cell_type": "code",
   "execution_count": 167,
   "metadata": {},
   "outputs": [],
   "source": [
    "df['incident_state']=le.fit_transform(df['incident_state'])"
   ]
  },
  {
   "cell_type": "code",
   "execution_count": 168,
   "metadata": {},
   "outputs": [],
   "source": [
    "df['incident_city']=le.fit_transform(df['incident_city'])"
   ]
  },
  {
   "cell_type": "code",
   "execution_count": 169,
   "metadata": {},
   "outputs": [],
   "source": [
    "df['property_damage']=le.fit_transform(df['property_damage'])"
   ]
  },
  {
   "cell_type": "code",
   "execution_count": 170,
   "metadata": {},
   "outputs": [],
   "source": [
    "df['police_report_available']=le.fit_transform(df['police_report_available'])"
   ]
  },
  {
   "cell_type": "code",
   "execution_count": 171,
   "metadata": {},
   "outputs": [],
   "source": [
    "df['auto_make']=le.fit_transform(df['auto_make'])"
   ]
  },
  {
   "cell_type": "code",
   "execution_count": 172,
   "metadata": {},
   "outputs": [
    {
     "name": "stdout",
     "output_type": "stream",
     "text": [
      "<class 'pandas.core.frame.DataFrame'>\n",
      "RangeIndex: 1000 entries, 0 to 999\n",
      "Data columns (total 33 columns):\n",
      " #   Column                       Non-Null Count  Dtype  \n",
      "---  ------                       --------------  -----  \n",
      " 0   months_as_customer           1000 non-null   int64  \n",
      " 1   age                          1000 non-null   int64  \n",
      " 2   policy_state                 1000 non-null   int32  \n",
      " 3   policy_csl                   1000 non-null   int32  \n",
      " 4   policy_deductable            1000 non-null   int64  \n",
      " 5   policy_annual_premium        1000 non-null   float64\n",
      " 6   umbrella_limit               1000 non-null   int64  \n",
      " 7   insured_zip                  1000 non-null   int64  \n",
      " 8   insured_sex                  1000 non-null   int32  \n",
      " 9   insured_education_level      1000 non-null   int32  \n",
      " 10  insured_hobbies              1000 non-null   int32  \n",
      " 11  insured_relationship         1000 non-null   int32  \n",
      " 12  capital-gains                1000 non-null   int64  \n",
      " 13  capital-loss                 1000 non-null   int64  \n",
      " 14  incident_type                1000 non-null   int32  \n",
      " 15  collision_type               1000 non-null   int32  \n",
      " 16  incident_severity            1000 non-null   int32  \n",
      " 17  authorities_contacted        1000 non-null   int32  \n",
      " 18  incident_state               1000 non-null   int32  \n",
      " 19  incident_city                1000 non-null   int32  \n",
      " 20  incident_hour_of_the_day     1000 non-null   int64  \n",
      " 21  number_of_vehicles_involved  1000 non-null   int64  \n",
      " 22  property_damage              1000 non-null   int32  \n",
      " 23  bodily_injuries              1000 non-null   int64  \n",
      " 24  witnesses                    1000 non-null   int64  \n",
      " 25  police_report_available      1000 non-null   int32  \n",
      " 26  total_claim_amount           1000 non-null   int64  \n",
      " 27  injury_claim                 1000 non-null   int64  \n",
      " 28  property_claim               1000 non-null   int64  \n",
      " 29  vehicle_claim                1000 non-null   int64  \n",
      " 30  auto_make                    1000 non-null   int32  \n",
      " 31  auto_year                    1000 non-null   int64  \n",
      " 32  fraud_reported               1000 non-null   int32  \n",
      "dtypes: float64(1), int32(16), int64(16)\n",
      "memory usage: 195.4 KB\n"
     ]
    }
   ],
   "source": [
    "df.info()"
   ]
  },
  {
   "cell_type": "code",
   "execution_count": 173,
   "metadata": {},
   "outputs": [],
   "source": [
    "df['incident_severity']=le.fit_transform(df['incident_severity'])"
   ]
  },
  {
   "cell_type": "code",
   "execution_count": 174,
   "metadata": {},
   "outputs": [
    {
     "name": "stdout",
     "output_type": "stream",
     "text": [
      "<class 'pandas.core.frame.DataFrame'>\n",
      "RangeIndex: 1000 entries, 0 to 999\n",
      "Data columns (total 33 columns):\n",
      " #   Column                       Non-Null Count  Dtype  \n",
      "---  ------                       --------------  -----  \n",
      " 0   months_as_customer           1000 non-null   int64  \n",
      " 1   age                          1000 non-null   int64  \n",
      " 2   policy_state                 1000 non-null   int32  \n",
      " 3   policy_csl                   1000 non-null   int32  \n",
      " 4   policy_deductable            1000 non-null   int64  \n",
      " 5   policy_annual_premium        1000 non-null   float64\n",
      " 6   umbrella_limit               1000 non-null   int64  \n",
      " 7   insured_zip                  1000 non-null   int64  \n",
      " 8   insured_sex                  1000 non-null   int32  \n",
      " 9   insured_education_level      1000 non-null   int32  \n",
      " 10  insured_hobbies              1000 non-null   int32  \n",
      " 11  insured_relationship         1000 non-null   int32  \n",
      " 12  capital-gains                1000 non-null   int64  \n",
      " 13  capital-loss                 1000 non-null   int64  \n",
      " 14  incident_type                1000 non-null   int32  \n",
      " 15  collision_type               1000 non-null   int32  \n",
      " 16  incident_severity            1000 non-null   int64  \n",
      " 17  authorities_contacted        1000 non-null   int32  \n",
      " 18  incident_state               1000 non-null   int32  \n",
      " 19  incident_city                1000 non-null   int32  \n",
      " 20  incident_hour_of_the_day     1000 non-null   int64  \n",
      " 21  number_of_vehicles_involved  1000 non-null   int64  \n",
      " 22  property_damage              1000 non-null   int32  \n",
      " 23  bodily_injuries              1000 non-null   int64  \n",
      " 24  witnesses                    1000 non-null   int64  \n",
      " 25  police_report_available      1000 non-null   int32  \n",
      " 26  total_claim_amount           1000 non-null   int64  \n",
      " 27  injury_claim                 1000 non-null   int64  \n",
      " 28  property_claim               1000 non-null   int64  \n",
      " 29  vehicle_claim                1000 non-null   int64  \n",
      " 30  auto_make                    1000 non-null   int32  \n",
      " 31  auto_year                    1000 non-null   int64  \n",
      " 32  fraud_reported               1000 non-null   int32  \n",
      "dtypes: float64(1), int32(15), int64(17)\n",
      "memory usage: 199.3 KB\n"
     ]
    }
   ],
   "source": [
    "df.info()"
   ]
  },
  {
   "cell_type": "code",
   "execution_count": 175,
   "metadata": {},
   "outputs": [
    {
     "data": {
      "text/plain": [
       "(1000,)"
      ]
     },
     "execution_count": 175,
     "metadata": {},
     "output_type": "execute_result"
    }
   ],
   "source": [
    "y.shape"
   ]
  },
  {
   "cell_type": "code",
   "execution_count": 176,
   "metadata": {},
   "outputs": [],
   "source": [
    "x=df.drop(['fraud_reported'],axis=1)"
   ]
  },
  {
   "cell_type": "code",
   "execution_count": 177,
   "metadata": {},
   "outputs": [
    {
     "data": {
      "text/plain": [
       "(1000, 32)"
      ]
     },
     "execution_count": 177,
     "metadata": {},
     "output_type": "execute_result"
    }
   ],
   "source": [
    "x.shape"
   ]
  },
  {
   "cell_type": "code",
   "execution_count": 178,
   "metadata": {},
   "outputs": [],
   "source": [
    "from sklearn.model_selection import train_test_split"
   ]
  },
  {
   "cell_type": "code",
   "execution_count": 179,
   "metadata": {},
   "outputs": [],
   "source": [
    "from sklearn.metrics import accuracy_score"
   ]
  },
  {
   "cell_type": "code",
   "execution_count": 180,
   "metadata": {},
   "outputs": [],
   "source": [
    "from sklearn.ensemble import RandomForestClassifier"
   ]
  },
  {
   "cell_type": "code",
   "execution_count": 181,
   "metadata": {},
   "outputs": [],
   "source": [
    "from sklearn.linear_model import LogisticRegression"
   ]
  },
  {
   "cell_type": "code",
   "execution_count": 182,
   "metadata": {},
   "outputs": [],
   "source": [
    "from sklearn.tree import DecisionTreeClassifier"
   ]
  },
  {
   "cell_type": "code",
   "execution_count": 183,
   "metadata": {},
   "outputs": [],
   "source": [
    "from sklearn.svm import SVC"
   ]
  },
  {
   "cell_type": "code",
   "execution_count": 184,
   "metadata": {},
   "outputs": [],
   "source": [
    "maxAcc=0\n",
    "maxRS=0"
   ]
  },
  {
   "cell_type": "code",
   "execution_count": 185,
   "metadata": {},
   "outputs": [
    {
     "name": "stdout",
     "output_type": "stream",
     "text": [
      "Best Accuracy is 0.84 on random state 138\n"
     ]
    }
   ],
   "source": [
    "for i in range(1,400):\n",
    "    x_train,x_test,y_train,y_test=train_test_split(x,y,test_size=.30,random_state=i)\n",
    "    DTC=DecisionTreeClassifier()\n",
    "    DTC.fit(x_train,y_train)\n",
    "    pred_dtc=DTC.predict(x_test)\n",
    "    acc_dtc=accuracy_score(y_test,pred_dtc)\n",
    "    if acc_dtc>maxAcc:\n",
    "        maxAcc=acc_dtc\n",
    "        maxRS=i\n",
    "print('Best Accuracy is',maxAcc,'on random state',maxRS)"
   ]
  },
  {
   "cell_type": "code",
   "execution_count": 228,
   "metadata": {},
   "outputs": [],
   "source": [
    "x_train,x_test,y_train,y_test=train_test_split(x,y,test_size=.30,random_state=138)"
   ]
  },
  {
   "cell_type": "code",
   "execution_count": 229,
   "metadata": {},
   "outputs": [],
   "source": [
    "LR=LogisticRegression()"
   ]
  },
  {
   "cell_type": "code",
   "execution_count": 230,
   "metadata": {},
   "outputs": [
    {
     "name": "stderr",
     "output_type": "stream",
     "text": [
      "C:\\Users\\bshiv\\anaconda3\\lib\\site-packages\\sklearn\\linear_model\\_logistic.py:763: ConvergenceWarning: lbfgs failed to converge (status=1):\n",
      "STOP: TOTAL NO. of ITERATIONS REACHED LIMIT.\n",
      "\n",
      "Increase the number of iterations (max_iter) or scale the data as shown in:\n",
      "    https://scikit-learn.org/stable/modules/preprocessing.html\n",
      "Please also refer to the documentation for alternative solver options:\n",
      "    https://scikit-learn.org/stable/modules/linear_model.html#logistic-regression\n",
      "  n_iter_i = _check_optimize_result(\n"
     ]
    },
    {
     "data": {
      "text/plain": [
       "LogisticRegression()"
      ]
     },
     "execution_count": 230,
     "metadata": {},
     "output_type": "execute_result"
    }
   ],
   "source": [
    "LR.fit(x_train,y_train)"
   ]
  },
  {
   "cell_type": "code",
   "execution_count": 231,
   "metadata": {},
   "outputs": [],
   "source": [
    "pred_lr=LR.predict(x_test)"
   ]
  },
  {
   "cell_type": "code",
   "execution_count": 232,
   "metadata": {},
   "outputs": [],
   "source": [
    "acc_lr=accuracy_score(y_test,pred_lr)"
   ]
  },
  {
   "cell_type": "code",
   "execution_count": 233,
   "metadata": {},
   "outputs": [
    {
     "name": "stdout",
     "output_type": "stream",
     "text": [
      "0.7533333333333333\n"
     ]
    }
   ],
   "source": [
    "print(acc_lr)"
   ]
  },
  {
   "cell_type": "code",
   "execution_count": 234,
   "metadata": {},
   "outputs": [],
   "source": [
    "SV=SVC()"
   ]
  },
  {
   "cell_type": "code",
   "execution_count": 235,
   "metadata": {},
   "outputs": [
    {
     "data": {
      "text/plain": [
       "SVC()"
      ]
     },
     "execution_count": 235,
     "metadata": {},
     "output_type": "execute_result"
    }
   ],
   "source": [
    "SV.fit(x_train,y_train)"
   ]
  },
  {
   "cell_type": "code",
   "execution_count": 236,
   "metadata": {},
   "outputs": [],
   "source": [
    "pred_svc=SV.predict(x_test)"
   ]
  },
  {
   "cell_type": "code",
   "execution_count": 237,
   "metadata": {},
   "outputs": [],
   "source": [
    "acc_sv=accuracy_score(y_test,pred_svc)"
   ]
  },
  {
   "cell_type": "code",
   "execution_count": 238,
   "metadata": {},
   "outputs": [
    {
     "name": "stdout",
     "output_type": "stream",
     "text": [
      "0.7633333333333333\n"
     ]
    }
   ],
   "source": [
    "print(acc_sv)"
   ]
  },
  {
   "cell_type": "code",
   "execution_count": 239,
   "metadata": {},
   "outputs": [],
   "source": [
    "RFC=RandomForestClassifier()"
   ]
  },
  {
   "cell_type": "code",
   "execution_count": 240,
   "metadata": {},
   "outputs": [
    {
     "data": {
      "text/plain": [
       "RandomForestClassifier()"
      ]
     },
     "execution_count": 240,
     "metadata": {},
     "output_type": "execute_result"
    }
   ],
   "source": [
    "RFC.fit(x_train,y_train)"
   ]
  },
  {
   "cell_type": "code",
   "execution_count": 241,
   "metadata": {},
   "outputs": [],
   "source": [
    "pred_rf=RFC.predict(x_test)"
   ]
  },
  {
   "cell_type": "code",
   "execution_count": 242,
   "metadata": {},
   "outputs": [],
   "source": [
    "acc_rf=accuracy_score(y_test,pred_rf)"
   ]
  },
  {
   "cell_type": "code",
   "execution_count": 243,
   "metadata": {},
   "outputs": [
    {
     "name": "stdout",
     "output_type": "stream",
     "text": [
      "0.79\n"
     ]
    }
   ],
   "source": [
    "print(acc_rf)"
   ]
  },
  {
   "cell_type": "code",
   "execution_count": 244,
   "metadata": {},
   "outputs": [],
   "source": [
    "from sklearn.model_selection import cross_val_score"
   ]
  },
  {
   "cell_type": "code",
   "execution_count": 245,
   "metadata": {},
   "outputs": [
    {
     "name": "stderr",
     "output_type": "stream",
     "text": [
      "C:\\Users\\bshiv\\anaconda3\\lib\\site-packages\\sklearn\\linear_model\\_logistic.py:763: ConvergenceWarning: lbfgs failed to converge (status=1):\n",
      "STOP: TOTAL NO. of ITERATIONS REACHED LIMIT.\n",
      "\n",
      "Increase the number of iterations (max_iter) or scale the data as shown in:\n",
      "    https://scikit-learn.org/stable/modules/preprocessing.html\n",
      "Please also refer to the documentation for alternative solver options:\n",
      "    https://scikit-learn.org/stable/modules/linear_model.html#logistic-regression\n",
      "  n_iter_i = _check_optimize_result(\n",
      "C:\\Users\\bshiv\\anaconda3\\lib\\site-packages\\sklearn\\linear_model\\_logistic.py:763: ConvergenceWarning: lbfgs failed to converge (status=1):\n",
      "STOP: TOTAL NO. of ITERATIONS REACHED LIMIT.\n",
      "\n",
      "Increase the number of iterations (max_iter) or scale the data as shown in:\n",
      "    https://scikit-learn.org/stable/modules/preprocessing.html\n",
      "Please also refer to the documentation for alternative solver options:\n",
      "    https://scikit-learn.org/stable/modules/linear_model.html#logistic-regression\n",
      "  n_iter_i = _check_optimize_result(\n",
      "C:\\Users\\bshiv\\anaconda3\\lib\\site-packages\\sklearn\\linear_model\\_logistic.py:763: ConvergenceWarning: lbfgs failed to converge (status=1):\n",
      "STOP: TOTAL NO. of ITERATIONS REACHED LIMIT.\n",
      "\n",
      "Increase the number of iterations (max_iter) or scale the data as shown in:\n",
      "    https://scikit-learn.org/stable/modules/preprocessing.html\n",
      "Please also refer to the documentation for alternative solver options:\n",
      "    https://scikit-learn.org/stable/modules/linear_model.html#logistic-regression\n",
      "  n_iter_i = _check_optimize_result(\n"
     ]
    },
    {
     "name": "stdout",
     "output_type": "stream",
     "text": [
      "0.7499999999999999\n"
     ]
    },
    {
     "name": "stderr",
     "output_type": "stream",
     "text": [
      "C:\\Users\\bshiv\\anaconda3\\lib\\site-packages\\sklearn\\linear_model\\_logistic.py:763: ConvergenceWarning: lbfgs failed to converge (status=1):\n",
      "STOP: TOTAL NO. of ITERATIONS REACHED LIMIT.\n",
      "\n",
      "Increase the number of iterations (max_iter) or scale the data as shown in:\n",
      "    https://scikit-learn.org/stable/modules/preprocessing.html\n",
      "Please also refer to the documentation for alternative solver options:\n",
      "    https://scikit-learn.org/stable/modules/linear_model.html#logistic-regression\n",
      "  n_iter_i = _check_optimize_result(\n",
      "C:\\Users\\bshiv\\anaconda3\\lib\\site-packages\\sklearn\\linear_model\\_logistic.py:763: ConvergenceWarning: lbfgs failed to converge (status=1):\n",
      "STOP: TOTAL NO. of ITERATIONS REACHED LIMIT.\n",
      "\n",
      "Increase the number of iterations (max_iter) or scale the data as shown in:\n",
      "    https://scikit-learn.org/stable/modules/preprocessing.html\n",
      "Please also refer to the documentation for alternative solver options:\n",
      "    https://scikit-learn.org/stable/modules/linear_model.html#logistic-regression\n",
      "  n_iter_i = _check_optimize_result(\n"
     ]
    }
   ],
   "source": [
    "print(cross_val_score(LR,x,y,cv=5).mean())"
   ]
  },
  {
   "cell_type": "code",
   "execution_count": 246,
   "metadata": {},
   "outputs": [
    {
     "name": "stdout",
     "output_type": "stream",
     "text": [
      "0.7529999999999999\n"
     ]
    }
   ],
   "source": [
    "print(cross_val_score(SV,x,y,cv=5).mean())"
   ]
  },
  {
   "cell_type": "code",
   "execution_count": 247,
   "metadata": {},
   "outputs": [
    {
     "name": "stdout",
     "output_type": "stream",
     "text": [
      "0.7739999999999999\n"
     ]
    }
   ],
   "source": [
    "print(cross_val_score(RFC,x,y,cv=5).mean())"
   ]
  },
  {
   "cell_type": "code",
   "execution_count": 248,
   "metadata": {},
   "outputs": [
    {
     "name": "stdout",
     "output_type": "stream",
     "text": [
      "0.77\n"
     ]
    }
   ],
   "source": [
    "print(cross_val_score(DTC,x,y,cv=5).mean())"
   ]
  },
  {
   "cell_type": "markdown",
   "metadata": {},
   "source": [
    "Decisiontree Classifier is best model based on accuracy score and cross validation score"
   ]
  },
  {
   "cell_type": "code",
   "execution_count": 249,
   "metadata": {},
   "outputs": [],
   "source": [
    "from sklearn.model_selection import GridSearchCV\n"
   ]
  },
  {
   "cell_type": "code",
   "execution_count": 250,
   "metadata": {},
   "outputs": [],
   "source": [
    "parameter={'criterion':['gini','entropy'],'splitter':['best','random'],'max_features':['auto','sqrt','log2']}\n"
   ]
  },
  {
   "cell_type": "code",
   "execution_count": 251,
   "metadata": {},
   "outputs": [],
   "source": [
    "GCV=GridSearchCV(DecisionTreeClassifier(),parameter,cv=5)\n"
   ]
  },
  {
   "cell_type": "code",
   "execution_count": 252,
   "metadata": {},
   "outputs": [
    {
     "data": {
      "text/plain": [
       "GridSearchCV(cv=5, estimator=DecisionTreeClassifier(),\n",
       "             param_grid={'criterion': ['gini', 'entropy'],\n",
       "                         'max_features': ['auto', 'sqrt', 'log2'],\n",
       "                         'splitter': ['best', 'random']})"
      ]
     },
     "execution_count": 252,
     "metadata": {},
     "output_type": "execute_result"
    }
   ],
   "source": [
    "GCV.fit(x_train,y_train)\n"
   ]
  },
  {
   "cell_type": "code",
   "execution_count": 253,
   "metadata": {},
   "outputs": [
    {
     "data": {
      "text/plain": [
       "{'criterion': 'entropy', 'max_features': 'auto', 'splitter': 'best'}"
      ]
     },
     "execution_count": 253,
     "metadata": {},
     "output_type": "execute_result"
    }
   ],
   "source": [
    "GCV.best_params_\n"
   ]
  },
  {
   "cell_type": "code",
   "execution_count": 255,
   "metadata": {},
   "outputs": [],
   "source": [
    "Finalmod=DecisionTreeClassifier(criterion='entropy',max_features='auto',splitter='best')\n"
   ]
  },
  {
   "cell_type": "code",
   "execution_count": 256,
   "metadata": {},
   "outputs": [
    {
     "name": "stdout",
     "output_type": "stream",
     "text": [
      "77.66666666666666\n"
     ]
    }
   ],
   "source": [
    "Finalmod.fit(x_train,y_train)\n",
    "pred_fin=Finalmod.predict(x_test)\n",
    "acc_fin=accuracy_score(y_test,pred_fin)\n",
    "print(acc_fin*100)"
   ]
  },
  {
   "cell_type": "code",
   "execution_count": 257,
   "metadata": {},
   "outputs": [],
   "source": [
    "from sklearn.metrics import roc_curve\n"
   ]
  },
  {
   "cell_type": "code",
   "execution_count": 258,
   "metadata": {},
   "outputs": [],
   "source": [
    "from sklearn.metrics import roc_auc_score\n"
   ]
  },
  {
   "cell_type": "code",
   "execution_count": 259,
   "metadata": {},
   "outputs": [],
   "source": [
    "DTC=DecisionTreeClassifier()"
   ]
  },
  {
   "cell_type": "code",
   "execution_count": 260,
   "metadata": {},
   "outputs": [
    {
     "data": {
      "text/plain": [
       "DecisionTreeClassifier()"
      ]
     },
     "execution_count": 260,
     "metadata": {},
     "output_type": "execute_result"
    }
   ],
   "source": [
    "DTC.fit(x_train,y_train)\n"
   ]
  },
  {
   "cell_type": "code",
   "execution_count": 261,
   "metadata": {},
   "outputs": [],
   "source": [
    "y_pred_prob=DTC.predict_proba(x_test)[:,1]\n"
   ]
  },
  {
   "cell_type": "code",
   "execution_count": 262,
   "metadata": {},
   "outputs": [
    {
     "data": {
      "text/plain": [
       "array([0., 0., 1., 1., 0., 0., 0., 1., 1., 0., 0., 0., 0., 1., 0., 1., 0.,\n",
       "       0., 0., 0., 1., 0., 0., 0., 1., 0., 0., 0., 0., 0., 0., 0., 1., 0.,\n",
       "       0., 1., 0., 0., 0., 0., 0., 1., 0., 1., 1., 0., 1., 1., 0., 0., 0.,\n",
       "       1., 0., 1., 0., 0., 0., 0., 0., 0., 1., 0., 0., 0., 1., 0., 0., 1.,\n",
       "       0., 0., 0., 0., 1., 0., 0., 0., 0., 0., 0., 0., 1., 1., 0., 1., 0.,\n",
       "       0., 0., 0., 0., 0., 0., 1., 1., 1., 0., 0., 0., 0., 1., 0., 0., 0.,\n",
       "       0., 0., 0., 0., 1., 1., 0., 0., 0., 1., 0., 1., 0., 0., 0., 1., 0.,\n",
       "       0., 0., 1., 1., 1., 0., 0., 1., 1., 1., 0., 0., 0., 0., 0., 0., 0.,\n",
       "       0., 0., 0., 1., 0., 0., 0., 0., 1., 0., 0., 0., 0., 0., 0., 0., 0.,\n",
       "       0., 0., 0., 0., 0., 0., 0., 1., 0., 1., 0., 0., 0., 0., 0., 0., 0.,\n",
       "       1., 0., 0., 1., 0., 0., 1., 1., 1., 1., 0., 0., 0., 0., 0., 0., 0.,\n",
       "       0., 0., 0., 0., 1., 0., 0., 1., 1., 1., 0., 0., 0., 1., 0., 0., 1.,\n",
       "       0., 0., 1., 0., 1., 1., 1., 0., 0., 0., 0., 0., 0., 0., 1., 0., 0.,\n",
       "       0., 0., 1., 1., 1., 0., 0., 0., 0., 0., 1., 1., 0., 0., 0., 0., 0.,\n",
       "       0., 1., 1., 0., 0., 0., 0., 0., 1., 0., 0., 1., 0., 0., 0., 0., 0.,\n",
       "       1., 0., 1., 0., 0., 0., 0., 0., 0., 0., 0., 0., 0., 0., 0., 1., 0.,\n",
       "       0., 1., 0., 0., 1., 0., 0., 0., 1., 0., 0., 0., 0., 0., 0., 0., 0.,\n",
       "       1., 0., 0., 0., 0., 0., 0., 0., 0., 1., 0.])"
      ]
     },
     "execution_count": 262,
     "metadata": {},
     "output_type": "execute_result"
    }
   ],
   "source": [
    "y_pred_prob"
   ]
  },
  {
   "cell_type": "code",
   "execution_count": 263,
   "metadata": {},
   "outputs": [
    {
     "data": {
      "text/plain": [
       "(300,)"
      ]
     },
     "execution_count": 263,
     "metadata": {},
     "output_type": "execute_result"
    }
   ],
   "source": [
    "y_pred_prob.shape\n"
   ]
  },
  {
   "cell_type": "code",
   "execution_count": 264,
   "metadata": {},
   "outputs": [],
   "source": [
    "fpr,tpr,thresholds=roc_curve(y_test,y_pred_prob)\n"
   ]
  },
  {
   "cell_type": "code",
   "execution_count": 265,
   "metadata": {},
   "outputs": [
    {
     "data": {
      "text/plain": [
       "[<matplotlib.lines.Line2D at 0x2520f33eb50>]"
      ]
     },
     "execution_count": 265,
     "metadata": {},
     "output_type": "execute_result"
    },
    {
     "data": {
      "image/png": "[encoded data removed]",
      "text/plain": [
       "<Figure size 432x288 with 1 Axes>"
      ]
     },
     "metadata": {
      "needs_background": "light"
     },
     "output_type": "display_data"
    }
   ],
   "source": [
    "plt.plot([0,1],[0,1],'k--')\n"
   ]
  },
  {
   "cell_type": "code",
   "execution_count": 266,
   "metadata": {},
   "outputs": [
    {
     "data": {
      "image/png": "[encoded data removed]",
      "text/plain": [
       "<Figure size 432x288 with 1 Axes>"
      ]
     },
     "metadata": {
      "needs_background": "light"
     },
     "output_type": "display_data"
    }
   ],
   "source": [
    "plt.plot(fpr,tpr,label='DecisionTreeClassifier')\n",
    "plt.xlabel('False Positive rate')\n",
    "plt.ylabel('True Positive rate')\n",
    "plt.title('DTC')\n",
    "plt.show()"
   ]
  },
  {
   "cell_type": "code",
   "execution_count": 268,
   "metadata": {},
   "outputs": [],
   "source": [
    "auc_score=roc_auc_score(y_test,DTC.predict(x_test))\n"
   ]
  },
  {
   "cell_type": "code",
   "execution_count": 269,
   "metadata": {},
   "outputs": [
    {
     "data": {
      "text/plain": [
       "0.8023863706254997"
      ]
     },
     "execution_count": 269,
     "metadata": {},
     "output_type": "execute_result"
    }
   ],
   "source": [
    "auc_score\n"
   ]
  },
  {
   "cell_type": "code",
   "execution_count": 270,
   "metadata": {},
   "outputs": [],
   "source": [
    "import joblib\n"
   ]
  },
  {
   "cell_type": "code",
   "execution_count": 271,
   "metadata": {},
   "outputs": [
    {
     "data": {
      "text/plain": [
       "['Insurance_fraud.pkl']"
      ]
     },
     "execution_count": 271,
     "metadata": {},
     "output_type": "execute_result"
    }
   ],
   "source": [
    "joblib.dump(Finalmod,'Insurance_fraud.pkl')\n"
   ]
  },
  {
   "cell_type": "code",
   "execution_count": null,
   "metadata": {},
   "outputs": [],
   "source": []
  }
 ],
 "metadata": {
  "kernelspec": {
   "display_name": "Python 3",
   "language": "python",
   "name": "python3"
  },
  "language_info": {
   "codemirror_mode": {
    "name": "ipython",
    "version": 3
   },
   "file_extension": ".py",
   "mimetype": "text/x-python",
   "name": "python",
   "nbconvert_exporter": "python",
   "pygments_lexer": "ipython3",
   "version": "3.8.3"
  }
 },
 "nbformat": 4,
 "nbformat_minor": 4
}
